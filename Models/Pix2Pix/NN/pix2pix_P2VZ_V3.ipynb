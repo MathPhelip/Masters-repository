{
 "cells": [
  {
   "cell_type": "code",
   "execution_count": 1,
   "id": "305e9d6c-0a6b-4c67-9e01-9d03fcfe2d41",
   "metadata": {},
   "outputs": [],
   "source": [
    "import os\n",
    "import torch\n",
    "import itertools\n",
    "import numpy as np\n",
    "import torch.nn as nn\n",
    "from PIL import Image\n",
    "import torch.utils.data\n",
    "import torch.nn.parallel\n",
    "import torch.optim as optim\n",
    "import matplotlib.pyplot as plt\n",
    "import torchvision.datasets as dset\n",
    "import torchvision.utils as vutils\n",
    "from torch.utils.data import Dataset, DataLoader\n",
    "from torchvision.utils import make_grid\n",
    "from torchvision import transforms\n",
    "from typing import List, Tuple, Dict\n",
    "from tqdm import tqdm\n",
    "import random\n",
    "from scipy.linalg import sqrtm"
   ]
  },
  {
   "cell_type": "code",
   "execution_count": 2,
   "id": "eee0194e-f0b9-4e72-9052-23d1bbf2b472",
   "metadata": {},
   "outputs": [
    {
     "name": "stdout",
     "output_type": "stream",
     "text": [
      "cuda:0\n"
     ]
    }
   ],
   "source": [
    "# Decide which device we want to run on\n",
    "ngpu = 1\n",
    "device = torch.device(\"cuda:0\" if (torch.cuda.is_available() and ngpu > 0) else \"cpu\")\n",
    "print(device)"
   ]
  },
  {
   "cell_type": "code",
   "execution_count": 3,
   "id": "7a7795aa-8563-4652-b561-d1bfe1f0d956",
   "metadata": {},
   "outputs": [
    {
     "name": "stdout",
     "output_type": "stream",
     "text": [
      "DataLoaders de treino e teste criados com sucesso!\n"
     ]
    }
   ],
   "source": [
    "# Define a classe de transformação\n",
    "class Transform:\n",
    "    def __init__(self):\n",
    "        self.data_transform = transforms.Compose([transforms.ToTensor()])\n",
    "\n",
    "    def __call__(self, inp):\n",
    "        return self.data_transform(inp)\n",
    "\n",
    "# Define a classe SeismicDataset para carregar dados binários\n",
    "class SeismicDataset:\n",
    "    def __init__(self, elastic_folder, acoustic_folder, shape=(256, 256, 1)):\n",
    "        self.elastic_files = sorted([os.path.join(elastic_folder, f) for f in os.listdir(elastic_folder) if f.endswith('.bin')])\n",
    "        self.acoustic_files = sorted([os.path.join(acoustic_folder, f) for f in os.listdir(acoustic_folder) if f.endswith('.bin')])\n",
    "        self.transformer = Transform()\n",
    "\n",
    "        # Define o tamanho dos patches com base no parâmetro `shape`\n",
    "        self.patch_shape = shape\n",
    "\n",
    "        # Verifica se o número de patches é o mesmo em ambas as pastas\n",
    "        assert len(self.elastic_files) == len(self.acoustic_files), \"Número de patches deve ser igual em ambas as pastas.\"\n",
    "\n",
    "    def __len__(self):\n",
    "        return len(self.elastic_files)\n",
    "\n",
    "    def __getitem__(self, idx) -> Tuple[torch.Tensor, torch.Tensor]:\n",
    "        # Carrega os patches binários para elastic e acoustic\n",
    "        elastic_patch = np.fromfile(self.elastic_files[idx], dtype='float32').reshape(self.patch_shape)\n",
    "        acoustic_patch = np.fromfile(self.acoustic_files[idx], dtype='float32').reshape(self.patch_shape)\n",
    "        \n",
    "        # Transforma para tensor\n",
    "        elastic_patch = self.transformer(elastic_patch)\n",
    "        acoustic_patch = self.transformer(acoustic_patch)\n",
    "\n",
    "        return acoustic_patch, elastic_patch\n",
    "\n",
    "\n",
    "# Define as pastas de treino e teste\n",
    "train_elastic_path = r'C:\\Users\\Matheus\\TrabalhodeMestrado\\Redes_Neurais\\Dados\\Seismic_data_set\\train\\elastic_vz'\n",
    "train_acoustic_path = r'C:\\Users\\Matheus\\TrabalhodeMestrado\\Redes_Neurais\\Dados\\Seismic_data_set\\train\\acoustic'\n",
    "test_elastic_path = r'C:\\Users\\Matheus\\TrabalhodeMestrado\\Redes_Neurais\\Dados\\Seismic_data_set\\test\\elastic_vz'\n",
    "test_acoustic_path = r'C:\\Users\\Matheus\\TrabalhodeMestrado\\Redes_Neurais\\Dados\\Seismic_data_set\\test\\acoustic'\n",
    "\n",
    "# Cria o dataset e DataLoader para treino e teste\n",
    "train_ds = SeismicDataset(train_elastic_path, train_acoustic_path, shape=(256, 256, 1))\n",
    "test_ds = SeismicDataset(test_elastic_path, test_acoustic_path, shape=(768, 361, 1))\n",
    "\n",
    "# Parâmetros do DataLoader\n",
    "BATCH_SIZE_TRAIN = 4\n",
    "BATCH_SIZE_TEST = 1\n",
    "\n",
    "# DataLoaders\n",
    "train_dl = DataLoader(train_ds, batch_size=BATCH_SIZE_TRAIN, shuffle=True, drop_last=False)\n",
    "test_dl = DataLoader(test_ds, batch_size=BATCH_SIZE_TEST, shuffle=False, drop_last=False)\n",
    "\n",
    "print(\"DataLoaders de treino e teste criados com sucesso!\")"
   ]
  },
  {
   "cell_type": "code",
   "execution_count": 4,
   "id": "08a410de-129d-45c3-a739-19eff51dc485",
   "metadata": {},
   "outputs": [
    {
     "name": "stdout",
     "output_type": "stream",
     "text": [
      "Número total de patches de treino: 3000\n",
      "Número total de patches de teste: 61\n",
      "Número total de batches de treino: 750\n",
      "Número total de batches de teste: 61\n"
     ]
    }
   ],
   "source": [
    "# Número total de patches no dataset de treino\n",
    "num_train_patches = len(train_ds)\n",
    "num_test_patches = len(test_ds)\n",
    "\n",
    "# Número de batches no DataLoader\n",
    "num_train_batches = len(train_dl)\n",
    "num_test_batches = len(test_dl)\n",
    "\n",
    "print(f\"Número total de patches de treino: {num_train_patches}\")\n",
    "print(f\"Número total de patches de teste: {num_test_patches}\")\n",
    "print(f\"Número total de batches de treino: {num_train_batches}\")\n",
    "print(f\"Número total de batches de teste: {num_test_batches}\")"
   ]
  },
  {
   "cell_type": "code",
   "execution_count": 5,
   "id": "ca4d4b68-3c63-48f3-9559-e700eabd9e80",
   "metadata": {},
   "outputs": [
    {
     "data": {
      "image/png": "[encoded data removed]",
      "text/plain": [
       "<Figure size 1000x300 with 2 Axes>"
      ]
     },
     "metadata": {},
     "output_type": "display_data"
    }
   ],
   "source": [
    "# Inicializar listas para armazenar os valores de todos os patches\n",
    "all_elastic_values = []\n",
    "all_acoustic_values = []\n",
    "\n",
    "# Iterar sobre todo o DataLoader\n",
    "for elastic_patch, acoustic_patch in train_dl:\n",
    "    all_elastic_values.append(elastic_patch.numpy().flatten())\n",
    "    all_acoustic_values.append(acoustic_patch.numpy().flatten())\n",
    "\n",
    "# Concatenar todos os valores de todos os patches em um único array\n",
    "all_elastic_values = np.concatenate(all_elastic_values)\n",
    "all_acoustic_values = np.concatenate(all_acoustic_values)\n",
    "\n",
    "# Plotar o histograma para os patches elásticos e acústicos\n",
    "plt.figure(figsize=(10, 3))\n",
    "\n",
    "# Histograma para os patches elásticos\n",
    "plt.subplot(1, 2, 1)\n",
    "plt.hist(all_elastic_values, bins=50, alpha=0.75, color='blue')\n",
    "plt.title('Histograma dos Patches de treino Elásticos')\n",
    "plt.xlabel('Valor')\n",
    "plt.ylabel('Frequência')\n",
    "\n",
    "# Histograma para os patches acústicos\n",
    "plt.subplot(1, 2, 2)\n",
    "plt.hist(all_acoustic_values, bins=50, alpha=0.75, color='green')\n",
    "plt.title('Histograma dos Patches de treino  Acústicos')\n",
    "plt.xlabel('Valor')\n",
    "\n",
    "# Mostrar os gráficos\n",
    "plt.tight_layout()\n",
    "plt.show()"
   ]
  },
  {
   "cell_type": "code",
   "execution_count": 6,
   "id": "c8f5c337-f2c9-4f7a-a9d0-bb847ddfdae7",
   "metadata": {},
   "outputs": [
    {
     "data": {
      "image/png": "[encoded data removed]",
      "text/plain": [
       "<Figure size 1000x300 with 2 Axes>"
      ]
     },
     "metadata": {},
     "output_type": "display_data"
    }
   ],
   "source": [
    "# Inicializar listas para armazenar os valores de todos os patches\n",
    "all_elastic_values = []\n",
    "all_acoustic_values = []\n",
    "\n",
    "# Iterar sobre todo o DataLoader\n",
    "for elastic_patch, acoustic_patch in test_dl:\n",
    "    all_elastic_values.append(elastic_patch.numpy().flatten())\n",
    "    all_acoustic_values.append(acoustic_patch.numpy().flatten())\n",
    "\n",
    "# Concatenar todos os valores de todos os patches em um único array\n",
    "all_elastic_values = np.concatenate(all_elastic_values)\n",
    "all_acoustic_values = np.concatenate(all_acoustic_values)\n",
    "\n",
    "# Plotar o histograma para os patches elásticos e acústicos\n",
    "plt.figure(figsize=(10, 3))\n",
    "\n",
    "# Histograma para os patches elásticos\n",
    "plt.subplot(1, 2, 1)\n",
    "plt.hist(all_elastic_values, bins=50, alpha=0.75, color='blue')\n",
    "plt.title('Histograma dos Patches de teste Elásticos')\n",
    "plt.xlabel('Valor')\n",
    "plt.ylabel('Frequência')\n",
    "\n",
    "# Histograma para os patches acústicos\n",
    "plt.subplot(1, 2, 2)\n",
    "plt.hist(all_acoustic_values, bins=50, alpha=0.75, color='green')\n",
    "plt.title('Histograma dos Patches de teste Acústicos')\n",
    "plt.xlabel('Valor')\n",
    "\n",
    "# Mostrar os gráficos\n",
    "plt.tight_layout()\n",
    "plt.show()"
   ]
  },
  {
   "cell_type": "code",
   "execution_count": 7,
   "id": "03e54936-68ff-43a9-ac32-49962f2428d8",
   "metadata": {},
   "outputs": [
    {
     "data": {
      "image/png": "[encoded data removed]",
      "text/plain": [
       "<Figure size 900x300 with 2 Axes>"
      ]
     },
     "metadata": {},
     "output_type": "display_data"
    }
   ],
   "source": [
    "def show_img_sample(train_dl):\n",
    "    for i, (real_input, real_target) in enumerate(train_dl):\n",
    "        if i > 0:\n",
    "            break\n",
    "        fig, axes = plt.subplots(1, 2, figsize=(9, 3))\n",
    "        ax = axes.ravel()\n",
    "        \n",
    "        perc = 99\n",
    "        vmax = np.percentile(np.abs(real_input[0].squeeze()), perc)\n",
    "        vmin = -vmax\n",
    "        \n",
    "        ax[0].imshow(real_input[0].squeeze(), cmap='seismic', vmin=vmin, vmax=vmax)\n",
    "        ax[0].set_xticks([])\n",
    "        ax[0].set_yticks([])\n",
    "        ax[0].set_title(\"input image\", c=\"g\")\n",
    "        ax[1].imshow(real_target[0].squeeze(), cmap='seismic', vmin=vmin, vmax=vmax)\n",
    "        ax[1].set_xticks([])\n",
    "        ax[1].set_yticks([])\n",
    "        ax[1].set_title(\"target image\", c=\"g\")\n",
    "        plt.subplots_adjust(wspace=0, hspace=0)\n",
    "        plt.show()\n",
    "\n",
    "show_img_sample(train_dl)"
   ]
  },
  {
   "cell_type": "code",
   "execution_count": 8,
   "id": "e8865c96-8bf0-4991-9945-b2a4f15a7deb",
   "metadata": {},
   "outputs": [],
   "source": [
    "class GeneratorUnet(nn.Module):\n",
    "    def __init__(self, in_channels):\n",
    "        super(GeneratorUnet, self).__init__()\n",
    "        self.down_stack = nn.ModuleList([\n",
    "            self.Downsample(in_channels, 64, apply_batchnorm=False),  # (batch_size, 128, 128, 64)\n",
    "            self.Downsample(64, 128),  # (batch_size, 64, 64, 128)\n",
    "            self.Downsample(128, 256),  # (batch_size, 32, 32, 256)\n",
    "            self.Downsample(256, 512),  # (batch_size, 16, 16, 512)\n",
    "            self.Downsample(512, 512),  # (batch_size, 8, 8, 512)\n",
    "            self.Downsample(512, 512),  # (batch_size, 4, 4, 512)\n",
    "            self.Downsample(512, 512),  # (batch_size, 2, 2, 512)\n",
    "            self.Downsample(512, 512, apply_batchnorm=False),  # (batch_size, 1, 1, 512)\n",
    "        ])\n",
    "\n",
    "        self.up_stack = nn.ModuleList([\n",
    "            self.Upsample(512, 512, apply_dropout=True),  # (batch_size, 2, 2, 1024)\n",
    "            self.Upsample(1024, 512, apply_dropout=True),  # (batch_size, 4, 4, 1024)\n",
    "            self.Upsample(1024, 512, apply_dropout=True),  # (batch_size, 8, 8, 1024)\n",
    "            self.Upsample(1024, 512),  # (batch_size, 16, 16, 1024)\n",
    "            self.Upsample(1024, 256),  # (batch_size, 32, 32, 512)\n",
    "            self.Upsample(512, 128),  # (batch_size, 64, 64, 256)\n",
    "            self.Upsample(256, 64),  # (batch_size, 128, 128, 128)\n",
    "        ])\n",
    "\n",
    "        self.last = nn.ConvTranspose2d(128, in_channels, kernel_size=4, stride=2, padding=1, bias=False)\n",
    "        self.tanh = nn.Tanh()\n",
    "\n",
    "    def Downsample(self, in_channels, out_channels, apply_batchnorm=True):\n",
    "        layers = [\n",
    "            nn.Conv2d(in_channels, out_channels, kernel_size=4, stride=2, padding=1, bias=False),\n",
    "            nn.LeakyReLU(0.2, inplace=True)\n",
    "        ]\n",
    "        if apply_batchnorm:\n",
    "            layers.append(nn.BatchNorm2d(out_channels))\n",
    "\n",
    "        return nn.Sequential(*layers)\n",
    "\n",
    "    def Upsample(self, in_channels, out_channels, apply_dropout=False):\n",
    "        layers = [\n",
    "            nn.ConvTranspose2d(in_channels, out_channels, kernel_size=4, stride=2, padding=1, bias=False),\n",
    "            nn.ReLU(inplace=True)\n",
    "        ]\n",
    "        if apply_dropout:\n",
    "            layers.append(nn.Dropout(0.5))\n",
    "\n",
    "        return nn.Sequential(*layers)\n",
    "\n",
    "    def forward(self, x):\n",
    "        skips = []\n",
    "        for down in self.down_stack:\n",
    "            x = down(x)\n",
    "            skips.append(x)\n",
    "\n",
    "        skips = reversed(skips[:-1])\n",
    "        \n",
    "        for up, skip in zip(self.up_stack, skips):\n",
    "            x = up(x)\n",
    "            x = torch.cat([x, skip], dim=1)\n",
    "\n",
    "        x = self.last(x)\n",
    "        x = self.tanh(x)\n",
    "        return x"
   ]
  },
  {
   "cell_type": "code",
   "execution_count": 9,
   "id": "f923a851-298f-42c5-843d-1f761bb7375d",
   "metadata": {},
   "outputs": [],
   "source": [
    "class Discriminator(nn.Module):\n",
    "    def __init__(self, in_channels):\n",
    "        super(Discriminator, self).__init__()\n",
    "        \n",
    "        self.model = nn.Sequential(\n",
    "            *self.block(in_channels, 64, normalize=False, apply_dropout=False), # 3*256*256 -> 64*128*128 \n",
    "            *self.block(64, 128),  # 64*128*128 -> 128*64*64\n",
    "            *self.block(128, 256), # 128*64*64 -> 256*32*32     \n",
    "            nn.ZeroPad2d(1), # padding left and top   256*32*32 -> 256*34*34\n",
    "            nn.Conv2d(256, 512, kernel_size=4, stride=1, bias=False), #256*34*34 -> 512*31*31\n",
    "            nn.BatchNorm2d(512),\n",
    "            nn.LeakyReLU(0.2, inplace=True),\n",
    "            nn.ZeroPad2d(1), #512*31*31 -> 512*33*33\n",
    "            nn.Conv2d(512, 1, kernel_size=4) #512*33*33 -> 1*30*30\n",
    "        )\n",
    "    \n",
    "    @staticmethod\n",
    "    def block(in_channels, out_channels, normalize=True, apply_dropout=True):\n",
    "        layers = [nn.Conv2d(in_channels, out_channels, kernel_size=4, stride=2, padding=1, bias=False)]\n",
    "        if normalize:\n",
    "            layers.append(nn.BatchNorm2d(out_channels))\n",
    "        layers.append(nn.LeakyReLU(0.2, inplace=True))\n",
    "        \n",
    "        return layers\n",
    "        \n",
    "    def forward(self, input, target):\n",
    "        x = torch.cat((input, target), dim=1)\n",
    "        return self.model(x)"
   ]
  },
  {
   "cell_type": "code",
   "execution_count": 10,
   "id": "df725e9e-b534-45bc-aa87-8ced4682ba45",
   "metadata": {},
   "outputs": [],
   "source": [
    "criterion_L1  = nn.L1Loss() # Perda L1\n",
    "criterion_GAN = nn.BCEWithLogitsLoss() \n",
    "#criterion_GAN = nn.MSELoss()"
   ]
  },
  {
   "cell_type": "code",
   "execution_count": 11,
   "id": "6eef89a0-cd4c-4973-8c2d-5bc185e38d3a",
   "metadata": {},
   "outputs": [],
   "source": [
    "G = GeneratorUnet(1)\n",
    "D = Discriminator(2)"
   ]
  },
  {
   "cell_type": "code",
   "execution_count": 12,
   "id": "001912b0-0216-4c4c-9d61-3caae96da10e",
   "metadata": {},
   "outputs": [
    {
     "name": "stdout",
     "output_type": "stream",
     "text": [
      "cuda: True\n"
     ]
    }
   ],
   "source": [
    "cuda = torch.cuda.is_available()\n",
    "print(f'cuda: {cuda}')\n",
    "\n",
    "if cuda:\n",
    "    G = G.cuda()\n",
    "    D = D.cuda()\n",
    "    \n",
    "    criterion_L1 = criterion_L1.cuda()\n",
    "    criterion_GAN = criterion_GAN.cuda()"
   ]
  },
  {
   "cell_type": "code",
   "execution_count": 13,
   "id": "a4444770-c682-47d7-8493-e6c3552f67cc",
   "metadata": {},
   "outputs": [],
   "source": [
    "def visualize_data(generator, discriminator, dataloader, title, device):\n",
    "    generator.eval()  # Coloca o gerador no modo de avaliação\n",
    "    discriminator.eval()  # Coloca o discriminador no modo de avaliação\n",
    "\n",
    "    # Itera através do dataloader\n",
    "    for i, (real_input, real_target) in enumerate(dataloader):\n",
    "        if i > 0:\n",
    "          break\n",
    "\n",
    "        real_input, real_target = real_input.to(device), real_target.to(device)\n",
    "\n",
    "        # Gera imagens falsas com o gerador\n",
    "        with torch.no_grad():\n",
    "            fake_image = generator(real_input)\n",
    "\n",
    "        # Avalia as imagens reais e falsas com o discriminador\n",
    "        real_output = discriminator(real_input,real_target)\n",
    "        fake_output = discriminator(real_input,fake_image.detach())\n",
    "\n",
    "        print(f'shape da saída do gerador {fake_image.shape}')\n",
    "        print(f'shape da saída do discriminador {fake_output.shape}')\n",
    "\n",
    "        # Visualiza os resultados\n",
    "        fig, ax = plt.subplots(1, 3, figsize=(15, 5))\n",
    "        fig.suptitle(f'{title}')\n",
    "\n",
    "        real_input_img = real_input[0].squeeze().cpu()\n",
    "        real_target_img = real_target[0].squeeze().cpu()\n",
    "        fake_image_img = fake_image[0].squeeze().cpu()\n",
    "\n",
    "        perc = 99\n",
    "        vmax = np.percentile(np.abs(real_input_img), perc)\n",
    "        vmin = -vmax\n",
    "\n",
    "       # Mostra a imagem de entrada (real)\n",
    "        im1 = ax[0].imshow(real_input_img, cmap='seismic',vmin=vmin, vmax=vmax)\n",
    "        ax[0].set_title('Real Input', c=\"g\")\n",
    "        ax[0].axis('off')\n",
    "\n",
    "        # Mostra a imagem real alvo (ground truth)\n",
    "        im2 = ax[1].imshow(real_target_img, cmap='seismic',vmin=vmin, vmax=vmax)\n",
    "        ax[1].set_title('Real Target', c=\"g\")\n",
    "        ax[1].axis('off')\n",
    "\n",
    "        # Mostra a imagem falsa gerada\n",
    "        im3 = ax[2].imshow(fake_image_img, cmap='seismic',vmin=vmin, vmax=vmax)\n",
    "        ax[2].set_title('Generated Image', c=\"g\")\n",
    "        ax[2].axis('off')\n",
    "\n",
    "        plt.tight_layout()\n",
    "        plt.show()"
   ]
  },
  {
   "cell_type": "code",
   "execution_count": 14,
   "id": "259b34d9-d01c-4208-a1b9-e893f594f989",
   "metadata": {},
   "outputs": [
    {
     "name": "stdout",
     "output_type": "stream",
     "text": [
      "shape da saída do gerador torch.Size([4, 1, 256, 256])\n",
      "shape da saída do discriminador torch.Size([4, 1, 30, 30])\n"
     ]
    },
    {
     "data": {
      "image/png": "[encoded data removed]",
      "text/plain": [
       "<Figure size 1500x500 with 3 Axes>"
      ]
     },
     "metadata": {},
     "output_type": "display_data"
    }
   ],
   "source": [
    "visualize_data(G, D, train_dl, 'Resultados pre-treino', device)"
   ]
  },
  {
   "cell_type": "code",
   "execution_count": 15,
   "id": "0a2f4b9d-ae00-455a-b114-cd70ae4c845a",
   "metadata": {},
   "outputs": [],
   "source": [
    "lr_G = 2e-4\n",
    "lr_D = 2e-4\n",
    "b1 = 0.5\n",
    "b2 = 0.999\n",
    "\n",
    "optimizer_G = torch.optim.Adam(G.parameters(), lr=lr_G, betas=(b1, b2))\n",
    "optimizer_D = torch.optim.Adam(D.parameters(), lr=lr_D, betas=(b1, b2))"
   ]
  },
  {
   "cell_type": "code",
   "execution_count": 16,
   "id": "0af736f9-e0f2-4b18-8110-ac865deeea03",
   "metadata": {},
   "outputs": [
    {
     "name": "stderr",
     "output_type": "stream",
     "text": [
      "100%|████████████████████████████████████████████████████████████████████████████████| 750/750 [00:50<00:00, 14.85it/s]\n"
     ]
    },
    {
     "name": "stdout",
     "output_type": "stream",
     "text": [
      "[Epoch 1/150]\n",
      "[G loss: 16.183794021606445 | GAN: 1.9168908596038818 L1: 0.014266902580857277]\n",
      "[D loss: 0.17442920804023743]\n"
     ]
    },
    {
     "name": "stderr",
     "output_type": "stream",
     "text": [
      "100%|████████████████████████████████████████████████████████████████████████████████| 750/750 [00:49<00:00, 15.04it/s]\n"
     ]
    },
    {
     "name": "stdout",
     "output_type": "stream",
     "text": [
      "[Epoch 2/150]\n",
      "[G loss: 4.196653366088867 | GAN: 0.8675940036773682 L1: 0.0033290591090917587]\n",
      "[D loss: 0.5473096370697021]\n"
     ]
    },
    {
     "name": "stderr",
     "output_type": "stream",
     "text": [
      "100%|████████████████████████████████████████████████████████████████████████████████| 750/750 [00:49<00:00, 15.04it/s]\n"
     ]
    },
    {
     "name": "stdout",
     "output_type": "stream",
     "text": [
      "[Epoch 3/150]\n",
      "[G loss: 5.650027751922607 | GAN: 2.0959296226501465 L1: 0.0035540980752557516]\n",
      "[D loss: 0.7265272736549377]\n"
     ]
    },
    {
     "name": "stderr",
     "output_type": "stream",
     "text": [
      "100%|████████████████████████████████████████████████████████████████████████████████| 750/750 [00:50<00:00, 14.92it/s]\n"
     ]
    },
    {
     "name": "stdout",
     "output_type": "stream",
     "text": [
      "[Epoch 4/150]\n",
      "[G loss: 5.934947967529297 | GAN: 0.3669969439506531 L1: 0.005567951127886772]\n",
      "[D loss: 0.7872014045715332]\n"
     ]
    },
    {
     "name": "stderr",
     "output_type": "stream",
     "text": [
      "100%|████████████████████████████████████████████████████████████████████████████████| 750/750 [00:51<00:00, 14.64it/s]\n"
     ]
    },
    {
     "name": "stdout",
     "output_type": "stream",
     "text": [
      "[Epoch 5/150]\n",
      "[G loss: 2.6685094833374023 | GAN: 1.1259047985076904 L1: 0.001542604761198163]\n",
      "[D loss: 0.6975343227386475]\n"
     ]
    },
    {
     "name": "stderr",
     "output_type": "stream",
     "text": [
      "100%|████████████████████████████████████████████████████████████████████████████████| 750/750 [00:49<00:00, 15.11it/s]\n"
     ]
    },
    {
     "name": "stdout",
     "output_type": "stream",
     "text": [
      "[Epoch 6/150]\n",
      "[G loss: 4.877497673034668 | GAN: 0.6900337934494019 L1: 0.004187463782727718]\n",
      "[D loss: 0.57183837890625]\n"
     ]
    },
    {
     "name": "stderr",
     "output_type": "stream",
     "text": [
      "100%|████████████████████████████████████████████████████████████████████████████████| 750/750 [00:49<00:00, 15.10it/s]\n"
     ]
    },
    {
     "name": "stdout",
     "output_type": "stream",
     "text": [
      "[Epoch 7/150]\n",
      "[G loss: 6.012027263641357 | GAN: 1.1010161638259888 L1: 0.0049110110849142075]\n",
      "[D loss: 0.37340736389160156]\n"
     ]
    },
    {
     "name": "stderr",
     "output_type": "stream",
     "text": [
      "100%|████████████████████████████████████████████████████████████████████████████████| 750/750 [00:49<00:00, 15.16it/s]\n"
     ]
    },
    {
     "name": "stdout",
     "output_type": "stream",
     "text": [
      "[Epoch 8/150]\n",
      "[G loss: 5.00718355178833 | GAN: 1.583064317703247 L1: 0.0034241192042827606]\n",
      "[D loss: 0.17115995287895203]\n"
     ]
    },
    {
     "name": "stderr",
     "output_type": "stream",
     "text": [
      "100%|████████████████████████████████████████████████████████████████████████████████| 750/750 [00:50<00:00, 14.94it/s]\n"
     ]
    },
    {
     "name": "stdout",
     "output_type": "stream",
     "text": [
      "[Epoch 9/150]\n",
      "[G loss: 2.4205002784729004 | GAN: 1.407936453819275 L1: 0.001012563705444336]\n",
      "[D loss: 0.32331836223602295]\n"
     ]
    },
    {
     "name": "stderr",
     "output_type": "stream",
     "text": [
      "100%|████████████████████████████████████████████████████████████████████████████████| 750/750 [00:49<00:00, 15.13it/s]\n"
     ]
    },
    {
     "name": "stdout",
     "output_type": "stream",
     "text": [
      "[Epoch 10/150]\n",
      "[G loss: 9.704240798950195 | GAN: 4.872958183288574 L1: 0.004831282887607813]\n",
      "[D loss: 0.028547661378979683]\n"
     ]
    },
    {
     "name": "stderr",
     "output_type": "stream",
     "text": [
      "100%|████████████████████████████████████████████████████████████████████████████████| 750/750 [00:49<00:00, 15.13it/s]\n"
     ]
    },
    {
     "name": "stdout",
     "output_type": "stream",
     "text": [
      "[Epoch 11/150]\n",
      "[G loss: 6.553306579589844 | GAN: 2.832007884979248 L1: 0.003721298649907112]\n",
      "[D loss: 0.8230412602424622]\n"
     ]
    },
    {
     "name": "stderr",
     "output_type": "stream",
     "text": [
      "100%|████████████████████████████████████████████████████████████████████████████████| 750/750 [00:49<00:00, 15.07it/s]\n"
     ]
    },
    {
     "name": "stdout",
     "output_type": "stream",
     "text": [
      "[Epoch 12/150]\n",
      "[G loss: 8.313335418701172 | GAN: 6.156913757324219 L1: 0.0021564222406595945]\n",
      "[D loss: 0.00395562406629324]\n"
     ]
    },
    {
     "name": "stderr",
     "output_type": "stream",
     "text": [
      "100%|████████████████████████████████████████████████████████████████████████████████| 750/750 [00:50<00:00, 14.93it/s]\n"
     ]
    },
    {
     "name": "stdout",
     "output_type": "stream",
     "text": [
      "[Epoch 13/150]\n",
      "[G loss: 5.485706329345703 | GAN: 0.6799121499061584 L1: 0.0048057944513857365]\n",
      "[D loss: 0.6811041831970215]\n"
     ]
    },
    {
     "name": "stderr",
     "output_type": "stream",
     "text": [
      "100%|████████████████████████████████████████████████████████████████████████████████| 750/750 [00:49<00:00, 15.04it/s]\n"
     ]
    },
    {
     "name": "stdout",
     "output_type": "stream",
     "text": [
      "[Epoch 14/150]\n",
      "[G loss: 4.753921985626221 | GAN: 0.8702618479728699 L1: 0.0038836600724607706]\n",
      "[D loss: 0.7344005107879639]\n"
     ]
    },
    {
     "name": "stderr",
     "output_type": "stream",
     "text": [
      "100%|████████████████████████████████████████████████████████████████████████████████| 750/750 [00:49<00:00, 15.13it/s]\n"
     ]
    },
    {
     "name": "stdout",
     "output_type": "stream",
     "text": [
      "[Epoch 15/150]\n",
      "[G loss: 4.908504962921143 | GAN: 0.48523133993148804 L1: 0.004423273727297783]\n",
      "[D loss: 0.7424451112747192]\n"
     ]
    },
    {
     "name": "stderr",
     "output_type": "stream",
     "text": [
      "100%|████████████████████████████████████████████████████████████████████████████████| 750/750 [00:50<00:00, 14.95it/s]\n"
     ]
    },
    {
     "name": "stdout",
     "output_type": "stream",
     "text": [
      "[Epoch 16/150]\n",
      "[G loss: 8.10832405090332 | GAN: 4.166501998901367 L1: 0.003941821865737438]\n",
      "[D loss: 0.022606944665312767]\n"
     ]
    },
    {
     "name": "stderr",
     "output_type": "stream",
     "text": [
      "100%|████████████████████████████████████████████████████████████████████████████████| 750/750 [00:49<00:00, 15.15it/s]\n"
     ]
    },
    {
     "name": "stdout",
     "output_type": "stream",
     "text": [
      "[Epoch 17/150]\n",
      "[G loss: 2.2627944946289062 | GAN: 0.6922636032104492 L1: 0.0015705308178439736]\n",
      "[D loss: 0.6974598169326782]\n"
     ]
    },
    {
     "name": "stderr",
     "output_type": "stream",
     "text": [
      "100%|████████████████████████████████████████████████████████████████████████████████| 750/750 [00:50<00:00, 14.98it/s]\n"
     ]
    },
    {
     "name": "stdout",
     "output_type": "stream",
     "text": [
      "[Epoch 18/150]\n",
      "[G loss: 3.082685947418213 | GAN: 0.8561919927597046 L1: 0.002226493787020445]\n",
      "[D loss: 0.685613751411438]\n"
     ]
    },
    {
     "name": "stderr",
     "output_type": "stream",
     "text": [
      "100%|████████████████████████████████████████████████████████████████████████████████| 750/750 [00:49<00:00, 15.05it/s]\n"
     ]
    },
    {
     "name": "stdout",
     "output_type": "stream",
     "text": [
      "[Epoch 19/150]\n",
      "[G loss: 2.1545567512512207 | GAN: 0.5903652906417847 L1: 0.001564191421493888]\n",
      "[D loss: 0.6716091632843018]\n"
     ]
    },
    {
     "name": "stderr",
     "output_type": "stream",
     "text": [
      "100%|████████████████████████████████████████████████████████████████████████████████| 750/750 [00:50<00:00, 14.76it/s]\n"
     ]
    },
    {
     "name": "stdout",
     "output_type": "stream",
     "text": [
      "[Epoch 20/150]\n",
      "[G loss: 3.753973960876465 | GAN: 0.6540809869766235 L1: 0.0030998927541077137]\n",
      "[D loss: 0.744357705116272]\n"
     ]
    },
    {
     "name": "stderr",
     "output_type": "stream",
     "text": [
      "100%|████████████████████████████████████████████████████████████████████████████████| 750/750 [00:50<00:00, 14.83it/s]\n"
     ]
    },
    {
     "name": "stdout",
     "output_type": "stream",
     "text": [
      "[Epoch 21/150]\n",
      "[G loss: 7.035580635070801 | GAN: 5.166114807128906 L1: 0.0018694656901061535]\n",
      "[D loss: 0.012132353149354458]\n"
     ]
    },
    {
     "name": "stderr",
     "output_type": "stream",
     "text": [
      "100%|████████████████████████████████████████████████████████████████████████████████| 750/750 [00:50<00:00, 14.83it/s]\n"
     ]
    },
    {
     "name": "stdout",
     "output_type": "stream",
     "text": [
      "[Epoch 22/150]\n",
      "[G loss: 7.447789192199707 | GAN: 5.586885452270508 L1: 0.001860903576016426]\n",
      "[D loss: 0.005003037396818399]\n"
     ]
    },
    {
     "name": "stderr",
     "output_type": "stream",
     "text": [
      "100%|████████████████████████████████████████████████████████████████████████████████| 750/750 [00:50<00:00, 15.00it/s]\n"
     ]
    },
    {
     "name": "stdout",
     "output_type": "stream",
     "text": [
      "[Epoch 23/150]\n",
      "[G loss: 2.720733642578125 | GAN: 1.1719292402267456 L1: 0.0015488043427467346]\n",
      "[D loss: 0.3892924189567566]\n"
     ]
    },
    {
     "name": "stderr",
     "output_type": "stream",
     "text": [
      "100%|████████████████████████████████████████████████████████████████████████████████| 750/750 [00:48<00:00, 15.34it/s]\n"
     ]
    },
    {
     "name": "stdout",
     "output_type": "stream",
     "text": [
      "[Epoch 24/150]\n",
      "[G loss: 8.971384048461914 | GAN: 7.127773761749268 L1: 0.0018436107784509659]\n",
      "[D loss: 0.004130932502448559]\n"
     ]
    },
    {
     "name": "stderr",
     "output_type": "stream",
     "text": [
      "100%|████████████████████████████████████████████████████████████████████████████████| 750/750 [00:48<00:00, 15.37it/s]\n"
     ]
    },
    {
     "name": "stdout",
     "output_type": "stream",
     "text": [
      "[Epoch 25/150]\n",
      "[G loss: 8.66004753112793 | GAN: 6.610954284667969 L1: 0.002049093833193183]\n",
      "[D loss: 0.003216228913515806]\n"
     ]
    },
    {
     "name": "stderr",
     "output_type": "stream",
     "text": [
      "100%|████████████████████████████████████████████████████████████████████████████████| 750/750 [00:48<00:00, 15.38it/s]\n"
     ]
    },
    {
     "name": "stdout",
     "output_type": "stream",
     "text": [
      "[Epoch 26/150]\n",
      "[G loss: 1.3828344345092773 | GAN: 0.7712274789810181 L1: 0.0006116069271229208]\n",
      "[D loss: 0.6442386507987976]\n"
     ]
    },
    {
     "name": "stderr",
     "output_type": "stream",
     "text": [
      "100%|████████████████████████████████████████████████████████████████████████████████| 750/750 [00:49<00:00, 15.26it/s]\n"
     ]
    },
    {
     "name": "stdout",
     "output_type": "stream",
     "text": [
      "[Epoch 27/150]\n",
      "[G loss: 8.392633438110352 | GAN: 5.084805965423584 L1: 0.0033078272826969624]\n",
      "[D loss: 0.06094823405146599]\n"
     ]
    },
    {
     "name": "stderr",
     "output_type": "stream",
     "text": [
      "100%|████████████████████████████████████████████████████████████████████████████████| 750/750 [00:48<00:00, 15.37it/s]\n"
     ]
    },
    {
     "name": "stdout",
     "output_type": "stream",
     "text": [
      "[Epoch 28/150]\n",
      "[G loss: 12.882148742675781 | GAN: 8.714025497436523 L1: 0.004168123938143253]\n",
      "[D loss: 0.0045930808410048485]\n"
     ]
    },
    {
     "name": "stderr",
     "output_type": "stream",
     "text": [
      "100%|████████████████████████████████████████████████████████████████████████████████| 750/750 [00:48<00:00, 15.35it/s]\n"
     ]
    },
    {
     "name": "stdout",
     "output_type": "stream",
     "text": [
      "[Epoch 29/150]\n",
      "[G loss: 8.751794815063477 | GAN: 5.996632099151611 L1: 0.0027551623061299324]\n",
      "[D loss: 0.0034107679966837168]\n"
     ]
    },
    {
     "name": "stderr",
     "output_type": "stream",
     "text": [
      "100%|████████████████████████████████████████████████████████████████████████████████| 750/750 [00:48<00:00, 15.37it/s]\n"
     ]
    },
    {
     "name": "stdout",
     "output_type": "stream",
     "text": [
      "[Epoch 30/150]\n",
      "[G loss: 2.8870599269866943 | GAN: 0.5896444916725159 L1: 0.0022974153980612755]\n",
      "[D loss: 0.6610714793205261]\n"
     ]
    },
    {
     "name": "stderr",
     "output_type": "stream",
     "text": [
      "100%|████████████████████████████████████████████████████████████████████████████████| 750/750 [00:48<00:00, 15.35it/s]\n"
     ]
    },
    {
     "name": "stdout",
     "output_type": "stream",
     "text": [
      "[Epoch 31/150]\n",
      "[G loss: 7.898833274841309 | GAN: 6.404164791107178 L1: 0.001494668424129486]\n",
      "[D loss: 0.3410385251045227]\n"
     ]
    },
    {
     "name": "stderr",
     "output_type": "stream",
     "text": [
      "100%|████████████████████████████████████████████████████████████████████████████████| 750/750 [00:49<00:00, 15.23it/s]\n"
     ]
    },
    {
     "name": "stdout",
     "output_type": "stream",
     "text": [
      "[Epoch 32/150]\n",
      "[G loss: 10.713220596313477 | GAN: 8.082138061523438 L1: 0.002631082898005843]\n",
      "[D loss: 0.0015350908506661654]\n"
     ]
    },
    {
     "name": "stderr",
     "output_type": "stream",
     "text": [
      "100%|████████████████████████████████████████████████████████████████████████████████| 750/750 [00:48<00:00, 15.34it/s]\n"
     ]
    },
    {
     "name": "stdout",
     "output_type": "stream",
     "text": [
      "[Epoch 33/150]\n",
      "[G loss: 10.027412414550781 | GAN: 6.4616875648498535 L1: 0.003565724939107895]\n",
      "[D loss: 0.004351236391812563]\n"
     ]
    },
    {
     "name": "stderr",
     "output_type": "stream",
     "text": [
      "100%|████████████████████████████████████████████████████████████████████████████████| 750/750 [00:49<00:00, 15.26it/s]\n"
     ]
    },
    {
     "name": "stdout",
     "output_type": "stream",
     "text": [
      "[Epoch 34/150]\n",
      "[G loss: 7.278957366943359 | GAN: 4.9352126121521 L1: 0.0023437445051968098]\n",
      "[D loss: 0.008052054792642593]\n"
     ]
    },
    {
     "name": "stderr",
     "output_type": "stream",
     "text": [
      "100%|████████████████████████████████████████████████████████████████████████████████| 750/750 [00:48<00:00, 15.36it/s]\n"
     ]
    },
    {
     "name": "stdout",
     "output_type": "stream",
     "text": [
      "[Epoch 35/150]\n",
      "[G loss: 9.322407722473145 | GAN: 6.508495807647705 L1: 0.002813911996781826]\n",
      "[D loss: 0.0037505850195884705]\n"
     ]
    },
    {
     "name": "stderr",
     "output_type": "stream",
     "text": [
      "100%|████████████████████████████████████████████████████████████████████████████████| 750/750 [00:48<00:00, 15.36it/s]\n"
     ]
    },
    {
     "name": "stdout",
     "output_type": "stream",
     "text": [
      "[Epoch 36/150]\n",
      "[G loss: 2.83882212638855 | GAN: 0.45567336678504944 L1: 0.0023831487633287907]\n",
      "[D loss: 0.9677783250808716]\n"
     ]
    },
    {
     "name": "stderr",
     "output_type": "stream",
     "text": [
      "100%|████████████████████████████████████████████████████████████████████████████████| 750/750 [00:48<00:00, 15.31it/s]\n"
     ]
    },
    {
     "name": "stdout",
     "output_type": "stream",
     "text": [
      "[Epoch 37/150]\n",
      "[G loss: 1.7253763675689697 | GAN: 0.7064705491065979 L1: 0.0010189058957621455]\n",
      "[D loss: 0.6898099184036255]\n"
     ]
    },
    {
     "name": "stderr",
     "output_type": "stream",
     "text": [
      "100%|████████████████████████████████████████████████████████████████████████████████| 750/750 [00:49<00:00, 15.25it/s]\n"
     ]
    },
    {
     "name": "stdout",
     "output_type": "stream",
     "text": [
      "[Epoch 38/150]\n",
      "[G loss: 3.1617071628570557 | GAN: 0.9896907210350037 L1: 0.002172016305848956]\n",
      "[D loss: 0.6268012523651123]\n"
     ]
    },
    {
     "name": "stderr",
     "output_type": "stream",
     "text": [
      "100%|████████████████████████████████████████████████████████████████████████████████| 750/750 [00:49<00:00, 15.27it/s]\n"
     ]
    },
    {
     "name": "stdout",
     "output_type": "stream",
     "text": [
      "[Epoch 39/150]\n",
      "[G loss: 4.433922290802002 | GAN: 2.361518144607544 L1: 0.0020724041387438774]\n",
      "[D loss: 0.10268020629882812]\n"
     ]
    },
    {
     "name": "stderr",
     "output_type": "stream",
     "text": [
      "100%|████████████████████████████████████████████████████████████████████████████████| 750/750 [00:49<00:00, 15.25it/s]\n"
     ]
    },
    {
     "name": "stdout",
     "output_type": "stream",
     "text": [
      "[Epoch 40/150]\n",
      "[G loss: 8.8174467086792 | GAN: 7.141073226928711 L1: 0.001676373416557908]\n",
      "[D loss: 0.0010338951833546162]\n"
     ]
    },
    {
     "name": "stderr",
     "output_type": "stream",
     "text": [
      "100%|████████████████████████████████████████████████████████████████████████████████| 750/750 [00:49<00:00, 15.23it/s]\n"
     ]
    },
    {
     "name": "stdout",
     "output_type": "stream",
     "text": [
      "[Epoch 41/150]\n",
      "[G loss: 2.5200095176696777 | GAN: 0.7091546058654785 L1: 0.0018108547665178776]\n",
      "[D loss: 0.6933919191360474]\n"
     ]
    },
    {
     "name": "stderr",
     "output_type": "stream",
     "text": [
      "100%|████████████████████████████████████████████████████████████████████████████████| 750/750 [00:49<00:00, 15.27it/s]\n"
     ]
    },
    {
     "name": "stdout",
     "output_type": "stream",
     "text": [
      "[Epoch 42/150]\n",
      "[G loss: 8.402603149414062 | GAN: 6.839742660522461 L1: 0.001562860095873475]\n",
      "[D loss: 0.009989517740905285]\n"
     ]
    },
    {
     "name": "stderr",
     "output_type": "stream",
     "text": [
      "100%|████████████████████████████████████████████████████████████████████████████████| 750/750 [00:49<00:00, 15.27it/s]\n"
     ]
    },
    {
     "name": "stdout",
     "output_type": "stream",
     "text": [
      "[Epoch 43/150]\n",
      "[G loss: 12.896608352661133 | GAN: 10.017751693725586 L1: 0.0028788563795387745]\n",
      "[D loss: 0.0007146464195102453]\n"
     ]
    },
    {
     "name": "stderr",
     "output_type": "stream",
     "text": [
      "100%|████████████████████████████████████████████████████████████████████████████████| 750/750 [00:49<00:00, 15.30it/s]\n"
     ]
    },
    {
     "name": "stdout",
     "output_type": "stream",
     "text": [
      "[Epoch 44/150]\n",
      "[G loss: 2.066664695739746 | GAN: 0.7935290336608887 L1: 0.0012731357710435987]\n",
      "[D loss: 0.6901950836181641]\n"
     ]
    },
    {
     "name": "stderr",
     "output_type": "stream",
     "text": [
      "100%|████████████████████████████████████████████████████████████████████████████████| 750/750 [00:48<00:00, 15.34it/s]\n"
     ]
    },
    {
     "name": "stdout",
     "output_type": "stream",
     "text": [
      "[Epoch 45/150]\n",
      "[G loss: 2.6240668296813965 | GAN: 0.8118138313293457 L1: 0.001812252914533019]\n",
      "[D loss: 0.6125495433807373]\n"
     ]
    },
    {
     "name": "stderr",
     "output_type": "stream",
     "text": [
      "100%|████████████████████████████████████████████████████████████████████████████████| 750/750 [00:48<00:00, 15.32it/s]\n"
     ]
    },
    {
     "name": "stdout",
     "output_type": "stream",
     "text": [
      "[Epoch 46/150]\n",
      "[G loss: 9.223282814025879 | GAN: 6.8580403327941895 L1: 0.002365242689847946]\n",
      "[D loss: 0.004243062809109688]\n"
     ]
    },
    {
     "name": "stderr",
     "output_type": "stream",
     "text": [
      "100%|████████████████████████████████████████████████████████████████████████████████| 750/750 [00:48<00:00, 15.33it/s]\n"
     ]
    },
    {
     "name": "stdout",
     "output_type": "stream",
     "text": [
      "[Epoch 47/150]\n",
      "[G loss: 11.718987464904785 | GAN: 9.18407154083252 L1: 0.002534915693104267]\n",
      "[D loss: 0.0024278038181364536]\n"
     ]
    },
    {
     "name": "stderr",
     "output_type": "stream",
     "text": [
      "100%|████████████████████████████████████████████████████████████████████████████████| 750/750 [00:48<00:00, 15.32it/s]\n"
     ]
    },
    {
     "name": "stdout",
     "output_type": "stream",
     "text": [
      "[Epoch 48/150]\n",
      "[G loss: 9.811349868774414 | GAN: 8.313138961791992 L1: 0.0014982109423726797]\n",
      "[D loss: 0.000695172231644392]\n"
     ]
    },
    {
     "name": "stderr",
     "output_type": "stream",
     "text": [
      "100%|████████████████████████████████████████████████████████████████████████████████| 750/750 [00:48<00:00, 15.33it/s]\n"
     ]
    },
    {
     "name": "stdout",
     "output_type": "stream",
     "text": [
      "[Epoch 49/150]\n",
      "[G loss: 13.622526168823242 | GAN: 11.47037124633789 L1: 0.0021521553862839937]\n",
      "[D loss: 0.0002511664351914078]\n"
     ]
    },
    {
     "name": "stderr",
     "output_type": "stream",
     "text": [
      "100%|████████████████████████████████████████████████████████████████████████████████| 750/750 [00:49<00:00, 15.29it/s]\n"
     ]
    },
    {
     "name": "stdout",
     "output_type": "stream",
     "text": [
      "[Epoch 50/150]\n",
      "[G loss: 3.835212230682373 | GAN: 2.3949291706085205 L1: 0.0014402830274775624]\n",
      "[D loss: 0.1088499203324318]\n"
     ]
    },
    {
     "name": "stderr",
     "output_type": "stream",
     "text": [
      "100%|████████████████████████████████████████████████████████████████████████████████| 750/750 [00:48<00:00, 15.33it/s]\n"
     ]
    },
    {
     "name": "stdout",
     "output_type": "stream",
     "text": [
      "[Epoch 51/150]\n",
      "[G loss: 8.970720291137695 | GAN: 6.545074462890625 L1: 0.0024256459437310696]\n",
      "[D loss: 0.002198167145252228]\n"
     ]
    },
    {
     "name": "stderr",
     "output_type": "stream",
     "text": [
      "100%|████████████████████████████████████████████████████████████████████████████████| 750/750 [00:49<00:00, 15.30it/s]\n"
     ]
    },
    {
     "name": "stdout",
     "output_type": "stream",
     "text": [
      "[Epoch 52/150]\n",
      "[G loss: 7.944982528686523 | GAN: 6.506160736083984 L1: 0.0014388218987733126]\n",
      "[D loss: 0.0022637012880295515]\n"
     ]
    },
    {
     "name": "stderr",
     "output_type": "stream",
     "text": [
      "100%|████████████████████████████████████████████████████████████████████████████████| 750/750 [00:49<00:00, 15.29it/s]\n"
     ]
    },
    {
     "name": "stdout",
     "output_type": "stream",
     "text": [
      "[Epoch 53/150]\n",
      "[G loss: 8.036748886108398 | GAN: 5.98847770690918 L1: 0.002048271708190441]\n",
      "[D loss: 0.003092017490416765]\n"
     ]
    },
    {
     "name": "stderr",
     "output_type": "stream",
     "text": [
      "100%|████████████████████████████████████████████████████████████████████████████████| 750/750 [00:48<00:00, 15.36it/s]\n"
     ]
    },
    {
     "name": "stdout",
     "output_type": "stream",
     "text": [
      "[Epoch 54/150]\n",
      "[G loss: 8.454938888549805 | GAN: 7.0537109375 L1: 0.0014012276660650969]\n",
      "[D loss: 0.0018063471652567387]\n"
     ]
    },
    {
     "name": "stderr",
     "output_type": "stream",
     "text": [
      "100%|████████████████████████████████████████████████████████████████████████████████| 750/750 [00:49<00:00, 15.30it/s]\n"
     ]
    },
    {
     "name": "stdout",
     "output_type": "stream",
     "text": [
      "[Epoch 55/150]\n",
      "[G loss: 10.508094787597656 | GAN: 6.9966583251953125 L1: 0.0035114367492496967]\n",
      "[D loss: 0.001443060813471675]\n"
     ]
    },
    {
     "name": "stderr",
     "output_type": "stream",
     "text": [
      "100%|████████████████████████████████████████████████████████████████████████████████| 750/750 [00:49<00:00, 15.30it/s]\n"
     ]
    },
    {
     "name": "stdout",
     "output_type": "stream",
     "text": [
      "[Epoch 56/150]\n",
      "[G loss: 3.3747737407684326 | GAN: 1.2019050121307373 L1: 0.002172868698835373]\n",
      "[D loss: 0.26070666313171387]\n"
     ]
    },
    {
     "name": "stderr",
     "output_type": "stream",
     "text": [
      "100%|████████████████████████████████████████████████████████████████████████████████| 750/750 [00:49<00:00, 15.25it/s]\n"
     ]
    },
    {
     "name": "stdout",
     "output_type": "stream",
     "text": [
      "[Epoch 57/150]\n",
      "[G loss: 13.112510681152344 | GAN: 10.70784854888916 L1: 0.0024046620819717646]\n",
      "[D loss: 0.0008255088469013572]\n"
     ]
    },
    {
     "name": "stderr",
     "output_type": "stream",
     "text": [
      "100%|████████████████████████████████████████████████████████████████████████████████| 750/750 [00:49<00:00, 15.30it/s]\n"
     ]
    },
    {
     "name": "stdout",
     "output_type": "stream",
     "text": [
      "[Epoch 58/150]\n",
      "[G loss: 10.718904495239258 | GAN: 8.931241989135742 L1: 0.0017876626225188375]\n",
      "[D loss: 0.0005045637371949852]\n"
     ]
    },
    {
     "name": "stderr",
     "output_type": "stream",
     "text": [
      "100%|████████████████████████████████████████████████████████████████████████████████| 750/750 [00:48<00:00, 15.32it/s]\n"
     ]
    },
    {
     "name": "stdout",
     "output_type": "stream",
     "text": [
      "[Epoch 59/150]\n",
      "[G loss: 1.8875221014022827 | GAN: 0.9444978833198547 L1: 0.0009430242353118956]\n",
      "[D loss: 0.6196863651275635]\n"
     ]
    },
    {
     "name": "stderr",
     "output_type": "stream",
     "text": [
      "100%|████████████████████████████████████████████████████████████████████████████████| 750/750 [00:49<00:00, 15.30it/s]\n"
     ]
    },
    {
     "name": "stdout",
     "output_type": "stream",
     "text": [
      "[Epoch 60/150]\n",
      "[G loss: 6.301144123077393 | GAN: 4.393363952636719 L1: 0.0019077800679951906]\n",
      "[D loss: 0.3288211226463318]\n"
     ]
    },
    {
     "name": "stderr",
     "output_type": "stream",
     "text": [
      "100%|████████████████████████████████████████████████████████████████████████████████| 750/750 [00:48<00:00, 15.36it/s]\n"
     ]
    },
    {
     "name": "stdout",
     "output_type": "stream",
     "text": [
      "[Epoch 61/150]\n",
      "[G loss: 9.967363357543945 | GAN: 7.740908622741699 L1: 0.0022264542058110237]\n",
      "[D loss: 0.0019486050587147474]\n"
     ]
    },
    {
     "name": "stderr",
     "output_type": "stream",
     "text": [
      "100%|████████████████████████████████████████████████████████████████████████████████| 750/750 [00:49<00:00, 15.29it/s]\n"
     ]
    },
    {
     "name": "stdout",
     "output_type": "stream",
     "text": [
      "[Epoch 62/150]\n",
      "[G loss: 11.251693725585938 | GAN: 8.716447830200195 L1: 0.002535245381295681]\n",
      "[D loss: 0.000984173733741045]\n"
     ]
    },
    {
     "name": "stderr",
     "output_type": "stream",
     "text": [
      "100%|████████████████████████████████████████████████████████████████████████████████| 750/750 [00:48<00:00, 15.36it/s]\n"
     ]
    },
    {
     "name": "stdout",
     "output_type": "stream",
     "text": [
      "[Epoch 63/150]\n",
      "[G loss: 11.15224838256836 | GAN: 8.015386581420898 L1: 0.003136862302199006]\n",
      "[D loss: 0.0018528797663748264]\n"
     ]
    },
    {
     "name": "stderr",
     "output_type": "stream",
     "text": [
      "100%|████████████████████████████████████████████████████████████████████████████████| 750/750 [00:48<00:00, 15.35it/s]\n"
     ]
    },
    {
     "name": "stdout",
     "output_type": "stream",
     "text": [
      "[Epoch 64/150]\n",
      "[G loss: 13.530182838439941 | GAN: 10.594893455505371 L1: 0.0029352891724556684]\n",
      "[D loss: 0.00013427740486804396]\n"
     ]
    },
    {
     "name": "stderr",
     "output_type": "stream",
     "text": [
      "100%|████████████████████████████████████████████████████████████████████████████████| 750/750 [00:48<00:00, 15.35it/s]\n"
     ]
    },
    {
     "name": "stdout",
     "output_type": "stream",
     "text": [
      "[Epoch 65/150]\n",
      "[G loss: 16.534269332885742 | GAN: 13.666325569152832 L1: 0.0028679445385932922]\n",
      "[D loss: 0.00019600849191192538]\n"
     ]
    },
    {
     "name": "stderr",
     "output_type": "stream",
     "text": [
      "100%|████████████████████████████████████████████████████████████████████████████████| 750/750 [00:48<00:00, 15.34it/s]\n"
     ]
    },
    {
     "name": "stdout",
     "output_type": "stream",
     "text": [
      "[Epoch 66/150]\n",
      "[G loss: 8.144783020019531 | GAN: 6.430385589599609 L1: 0.0017143974546343088]\n",
      "[D loss: 0.006847023963928223]\n"
     ]
    },
    {
     "name": "stderr",
     "output_type": "stream",
     "text": [
      "100%|████████████████████████████████████████████████████████████████████████████████| 750/750 [00:48<00:00, 15.35it/s]\n"
     ]
    },
    {
     "name": "stdout",
     "output_type": "stream",
     "text": [
      "[Epoch 67/150]\n",
      "[G loss: 5.165571212768555 | GAN: 1.8589249849319458 L1: 0.00330664636567235]\n",
      "[D loss: 1.4685732126235962]\n"
     ]
    },
    {
     "name": "stderr",
     "output_type": "stream",
     "text": [
      "100%|████████████████████████████████████████████████████████████████████████████████| 750/750 [00:49<00:00, 15.22it/s]\n"
     ]
    },
    {
     "name": "stdout",
     "output_type": "stream",
     "text": [
      "[Epoch 68/150]\n",
      "[G loss: 4.921609401702881 | GAN: 2.9887402057647705 L1: 0.0019328691996634007]\n",
      "[D loss: 0.07190398871898651]\n"
     ]
    },
    {
     "name": "stderr",
     "output_type": "stream",
     "text": [
      "100%|████████████████████████████████████████████████████████████████████████████████| 750/750 [00:49<00:00, 15.05it/s]\n"
     ]
    },
    {
     "name": "stdout",
     "output_type": "stream",
     "text": [
      "[Epoch 69/150]\n",
      "[G loss: 8.222919464111328 | GAN: 6.583773136138916 L1: 0.0016391467070207]\n",
      "[D loss: 0.0038771149702370167]\n"
     ]
    },
    {
     "name": "stderr",
     "output_type": "stream",
     "text": [
      "100%|████████████████████████████████████████████████████████████████████████████████| 750/750 [00:50<00:00, 14.83it/s]\n"
     ]
    },
    {
     "name": "stdout",
     "output_type": "stream",
     "text": [
      "[Epoch 70/150]\n",
      "[G loss: 8.342823028564453 | GAN: 6.652472019195557 L1: 0.0016903507057577372]\n",
      "[D loss: 0.0018386708106845617]\n"
     ]
    },
    {
     "name": "stderr",
     "output_type": "stream",
     "text": [
      "100%|████████████████████████████████████████████████████████████████████████████████| 750/750 [00:49<00:00, 15.02it/s]\n"
     ]
    },
    {
     "name": "stdout",
     "output_type": "stream",
     "text": [
      "[Epoch 71/150]\n",
      "[G loss: 13.501167297363281 | GAN: 11.5065279006958 L1: 0.0019946391694247723]\n",
      "[D loss: 0.0010968572460114956]\n"
     ]
    },
    {
     "name": "stderr",
     "output_type": "stream",
     "text": [
      "100%|████████████████████████████████████████████████████████████████████████████████| 750/750 [00:49<00:00, 15.06it/s]\n"
     ]
    },
    {
     "name": "stdout",
     "output_type": "stream",
     "text": [
      "[Epoch 72/150]\n",
      "[G loss: 14.891965866088867 | GAN: 12.427206993103027 L1: 0.002464759163558483]\n",
      "[D loss: 9.790662443265319e-05]\n"
     ]
    },
    {
     "name": "stderr",
     "output_type": "stream",
     "text": [
      "100%|████████████████████████████████████████████████████████████████████████████████| 750/750 [00:48<00:00, 15.35it/s]\n"
     ]
    },
    {
     "name": "stdout",
     "output_type": "stream",
     "text": [
      "[Epoch 73/150]\n",
      "[G loss: 2.569823741912842 | GAN: 1.0315247774124146 L1: 0.0015382989076897502]\n",
      "[D loss: 0.54242342710495]\n"
     ]
    },
    {
     "name": "stderr",
     "output_type": "stream",
     "text": [
      "100%|████████████████████████████████████████████████████████████████████████████████| 750/750 [00:48<00:00, 15.32it/s]\n"
     ]
    },
    {
     "name": "stdout",
     "output_type": "stream",
     "text": [
      "[Epoch 74/150]\n",
      "[G loss: 2.356818675994873 | GAN: 1.6647752523422241 L1: 0.0006920433370396495]\n",
      "[D loss: 0.4008060693740845]\n"
     ]
    },
    {
     "name": "stderr",
     "output_type": "stream",
     "text": [
      "100%|████████████████████████████████████████████████████████████████████████████████| 750/750 [00:48<00:00, 15.34it/s]\n"
     ]
    },
    {
     "name": "stdout",
     "output_type": "stream",
     "text": [
      "[Epoch 75/150]\n",
      "[G loss: 5.328659534454346 | GAN: 3.959897041320801 L1: 0.0013687623431906104]\n",
      "[D loss: 0.019103985279798508]\n"
     ]
    },
    {
     "name": "stderr",
     "output_type": "stream",
     "text": [
      "100%|████████████████████████████████████████████████████████████████████████████████| 750/750 [00:48<00:00, 15.34it/s]\n"
     ]
    },
    {
     "name": "stdout",
     "output_type": "stream",
     "text": [
      "[Epoch 76/150]\n",
      "[G loss: 10.190704345703125 | GAN: 7.259389400482178 L1: 0.0029313149861991405]\n",
      "[D loss: 0.0029743188060820103]\n"
     ]
    },
    {
     "name": "stderr",
     "output_type": "stream",
     "text": [
      "100%|████████████████████████████████████████████████████████████████████████████████| 750/750 [00:48<00:00, 15.32it/s]\n"
     ]
    },
    {
     "name": "stdout",
     "output_type": "stream",
     "text": [
      "[Epoch 77/150]\n",
      "[G loss: 13.348808288574219 | GAN: 10.913650512695312 L1: 0.0024351575411856174]\n",
      "[D loss: 0.0008794013992883265]\n"
     ]
    },
    {
     "name": "stderr",
     "output_type": "stream",
     "text": [
      "100%|████████████████████████████████████████████████████████████████████████████████| 750/750 [00:48<00:00, 15.35it/s]\n"
     ]
    },
    {
     "name": "stdout",
     "output_type": "stream",
     "text": [
      "[Epoch 78/150]\n",
      "[G loss: 10.720619201660156 | GAN: 8.359896659851074 L1: 0.0023607220500707626]\n",
      "[D loss: 0.0008250648970715702]\n"
     ]
    },
    {
     "name": "stderr",
     "output_type": "stream",
     "text": [
      "100%|████████████████████████████████████████████████████████████████████████████████| 750/750 [00:48<00:00, 15.31it/s]\n"
     ]
    },
    {
     "name": "stdout",
     "output_type": "stream",
     "text": [
      "[Epoch 79/150]\n",
      "[G loss: 9.127680778503418 | GAN: 6.532100677490234 L1: 0.00259558018296957]\n",
      "[D loss: 0.005596828646957874]\n"
     ]
    },
    {
     "name": "stderr",
     "output_type": "stream",
     "text": [
      "100%|████████████████████████████████████████████████████████████████████████████████| 750/750 [00:48<00:00, 15.32it/s]\n"
     ]
    },
    {
     "name": "stdout",
     "output_type": "stream",
     "text": [
      "[Epoch 80/150]\n",
      "[G loss: 11.56644344329834 | GAN: 9.152705192565918 L1: 0.0024137385189533234]\n",
      "[D loss: 0.0018145379144698381]\n"
     ]
    },
    {
     "name": "stderr",
     "output_type": "stream",
     "text": [
      "100%|████████████████████████████████████████████████████████████████████████████████| 750/750 [00:49<00:00, 15.27it/s]\n"
     ]
    },
    {
     "name": "stdout",
     "output_type": "stream",
     "text": [
      "[Epoch 81/150]\n",
      "[G loss: 5.520345687866211 | GAN: 4.579122066497803 L1: 0.0009412238723598421]\n",
      "[D loss: 0.009499593637883663]\n"
     ]
    },
    {
     "name": "stderr",
     "output_type": "stream",
     "text": [
      "100%|████████████████████████████████████████████████████████████████████████████████| 750/750 [00:49<00:00, 15.21it/s]\n"
     ]
    },
    {
     "name": "stdout",
     "output_type": "stream",
     "text": [
      "[Epoch 82/150]\n",
      "[G loss: 6.823616981506348 | GAN: 4.658167362213135 L1: 0.0021654493175446987]\n",
      "[D loss: 0.0417485348880291]\n"
     ]
    },
    {
     "name": "stderr",
     "output_type": "stream",
     "text": [
      "100%|████████████████████████████████████████████████████████████████████████████████| 750/750 [00:48<00:00, 15.32it/s]\n"
     ]
    },
    {
     "name": "stdout",
     "output_type": "stream",
     "text": [
      "[Epoch 83/150]\n",
      "[G loss: 14.626957893371582 | GAN: 12.052535057067871 L1: 0.0025744226295500994]\n",
      "[D loss: 0.0007787600043229759]\n"
     ]
    },
    {
     "name": "stderr",
     "output_type": "stream",
     "text": [
      "100%|████████████████████████████████████████████████████████████████████████████████| 750/750 [00:48<00:00, 15.35it/s]\n"
     ]
    },
    {
     "name": "stdout",
     "output_type": "stream",
     "text": [
      "[Epoch 84/150]\n",
      "[G loss: 3.7262015342712402 | GAN: 2.199948310852051 L1: 0.0015262531815096736]\n",
      "[D loss: 0.48593270778656006]\n"
     ]
    },
    {
     "name": "stderr",
     "output_type": "stream",
     "text": [
      "100%|████████████████████████████████████████████████████████████████████████████████| 750/750 [00:49<00:00, 15.22it/s]\n"
     ]
    },
    {
     "name": "stdout",
     "output_type": "stream",
     "text": [
      "[Epoch 85/150]\n",
      "[G loss: 3.3535571098327637 | GAN: 1.326343059539795 L1: 0.002027214039117098]\n",
      "[D loss: 1.037700891494751]\n"
     ]
    },
    {
     "name": "stderr",
     "output_type": "stream",
     "text": [
      "100%|████████████████████████████████████████████████████████████████████████████████| 750/750 [00:50<00:00, 14.97it/s]\n"
     ]
    },
    {
     "name": "stdout",
     "output_type": "stream",
     "text": [
      "[Epoch 86/150]\n",
      "[G loss: 9.766155242919922 | GAN: 7.691130638122559 L1: 0.0020750246476382017]\n",
      "[D loss: 0.001496342127211392]\n"
     ]
    },
    {
     "name": "stderr",
     "output_type": "stream",
     "text": [
      "100%|████████████████████████████████████████████████████████████████████████████████| 750/750 [00:50<00:00, 14.89it/s]\n"
     ]
    },
    {
     "name": "stdout",
     "output_type": "stream",
     "text": [
      "[Epoch 87/150]\n",
      "[G loss: 11.29334831237793 | GAN: 9.637166023254395 L1: 0.0016561825759708881]\n",
      "[D loss: 0.00044677749974653125]\n"
     ]
    },
    {
     "name": "stderr",
     "output_type": "stream",
     "text": [
      "100%|████████████████████████████████████████████████████████████████████████████████| 750/750 [00:50<00:00, 14.92it/s]\n"
     ]
    },
    {
     "name": "stdout",
     "output_type": "stream",
     "text": [
      "[Epoch 88/150]\n",
      "[G loss: 4.328269004821777 | GAN: 2.653162956237793 L1: 0.0016751062357798219]\n",
      "[D loss: 0.11216341704130173]\n"
     ]
    },
    {
     "name": "stderr",
     "output_type": "stream",
     "text": [
      "100%|████████████████████████████████████████████████████████████████████████████████| 750/750 [00:50<00:00, 14.94it/s]\n"
     ]
    },
    {
     "name": "stdout",
     "output_type": "stream",
     "text": [
      "[Epoch 89/150]\n",
      "[G loss: 13.057321548461914 | GAN: 10.78598403930664 L1: 0.0022713374346494675]\n",
      "[D loss: 0.0008352463482879102]\n"
     ]
    },
    {
     "name": "stderr",
     "output_type": "stream",
     "text": [
      "100%|████████████████████████████████████████████████████████████████████████████████| 750/750 [00:49<00:00, 15.08it/s]\n"
     ]
    },
    {
     "name": "stdout",
     "output_type": "stream",
     "text": [
      "[Epoch 90/150]\n",
      "[G loss: 5.845489025115967 | GAN: 3.831822395324707 L1: 0.002013666555285454]\n",
      "[D loss: 0.024954358115792274]\n"
     ]
    },
    {
     "name": "stderr",
     "output_type": "stream",
     "text": [
      "100%|████████████████████████████████████████████████████████████████████████████████| 750/750 [00:49<00:00, 15.03it/s]\n"
     ]
    },
    {
     "name": "stdout",
     "output_type": "stream",
     "text": [
      "[Epoch 91/150]\n",
      "[G loss: 7.133335113525391 | GAN: 5.0050811767578125 L1: 0.0021282541565597057]\n",
      "[D loss: 0.00564084155485034]\n"
     ]
    },
    {
     "name": "stderr",
     "output_type": "stream",
     "text": [
      "100%|████████████████████████████████████████████████████████████████████████████████| 750/750 [00:50<00:00, 14.87it/s]\n"
     ]
    },
    {
     "name": "stdout",
     "output_type": "stream",
     "text": [
      "[Epoch 92/150]\n",
      "[G loss: 9.235905647277832 | GAN: 7.01617431640625 L1: 0.0022197312209755182]\n",
      "[D loss: 0.001334248692728579]\n"
     ]
    },
    {
     "name": "stderr",
     "output_type": "stream",
     "text": [
      "100%|████████████████████████████████████████████████████████████████████████████████| 750/750 [00:49<00:00, 15.01it/s]\n"
     ]
    },
    {
     "name": "stdout",
     "output_type": "stream",
     "text": [
      "[Epoch 93/150]\n",
      "[G loss: 7.8993635177612305 | GAN: 6.202115058898926 L1: 0.001697248313575983]\n",
      "[D loss: 0.009429777041077614]\n"
     ]
    },
    {
     "name": "stderr",
     "output_type": "stream",
     "text": [
      "100%|████████████████████████████████████████████████████████████████████████████████| 750/750 [00:49<00:00, 15.09it/s]\n"
     ]
    },
    {
     "name": "stdout",
     "output_type": "stream",
     "text": [
      "[Epoch 94/150]\n",
      "[G loss: 9.827951431274414 | GAN: 6.889501571655273 L1: 0.0029384498484432697]\n",
      "[D loss: 0.002145350445061922]\n"
     ]
    },
    {
     "name": "stderr",
     "output_type": "stream",
     "text": [
      "100%|████████████████████████████████████████████████████████████████████████████████| 750/750 [00:50<00:00, 14.97it/s]\n"
     ]
    },
    {
     "name": "stdout",
     "output_type": "stream",
     "text": [
      "[Epoch 95/150]\n",
      "[G loss: 13.916433334350586 | GAN: 10.953543663024902 L1: 0.002962889149785042]\n",
      "[D loss: 0.00024375994689762592]\n"
     ]
    },
    {
     "name": "stderr",
     "output_type": "stream",
     "text": [
      "100%|████████████████████████████████████████████████████████████████████████████████| 750/750 [00:49<00:00, 15.21it/s]\n"
     ]
    },
    {
     "name": "stdout",
     "output_type": "stream",
     "text": [
      "[Epoch 96/150]\n",
      "[G loss: 12.373451232910156 | GAN: 9.456816673278809 L1: 0.0029166345484554768]\n",
      "[D loss: 0.00039409296005032957]\n"
     ]
    },
    {
     "name": "stderr",
     "output_type": "stream",
     "text": [
      "100%|████████████████████████████████████████████████████████████████████████████████| 750/750 [00:48<00:00, 15.38it/s]\n"
     ]
    },
    {
     "name": "stdout",
     "output_type": "stream",
     "text": [
      "[Epoch 97/150]\n",
      "[G loss: 10.8853759765625 | GAN: 8.146872520446777 L1: 0.002738503972068429]\n",
      "[D loss: 0.0005893875495530665]\n"
     ]
    },
    {
     "name": "stderr",
     "output_type": "stream",
     "text": [
      "100%|████████████████████████████████████████████████████████████████████████████████| 750/750 [00:48<00:00, 15.38it/s]\n"
     ]
    },
    {
     "name": "stdout",
     "output_type": "stream",
     "text": [
      "[Epoch 98/150]\n",
      "[G loss: 14.681602478027344 | GAN: 11.664642333984375 L1: 0.0030169603414833546]\n",
      "[D loss: 0.0002575405815150589]\n"
     ]
    },
    {
     "name": "stderr",
     "output_type": "stream",
     "text": [
      "100%|████████████████████████████████████████████████████████████████████████████████| 750/750 [00:48<00:00, 15.39it/s]\n"
     ]
    },
    {
     "name": "stdout",
     "output_type": "stream",
     "text": [
      "[Epoch 99/150]\n",
      "[G loss: 9.650837898254395 | GAN: 7.0586957931518555 L1: 0.002592142205685377]\n",
      "[D loss: 0.01775435544550419]\n"
     ]
    },
    {
     "name": "stderr",
     "output_type": "stream",
     "text": [
      "100%|████████████████████████████████████████████████████████████████████████████████| 750/750 [00:48<00:00, 15.39it/s]\n"
     ]
    },
    {
     "name": "stdout",
     "output_type": "stream",
     "text": [
      "[Epoch 100/150]\n",
      "[G loss: 8.755536079406738 | GAN: 6.695845603942871 L1: 0.0020596906542778015]\n",
      "[D loss: 0.002196445595473051]\n"
     ]
    },
    {
     "name": "stderr",
     "output_type": "stream",
     "text": [
      "100%|████████████████████████████████████████████████████████████████████████████████| 750/750 [00:48<00:00, 15.38it/s]\n"
     ]
    },
    {
     "name": "stdout",
     "output_type": "stream",
     "text": [
      "[Epoch 101/150]\n",
      "[G loss: 10.213335990905762 | GAN: 8.39604377746582 L1: 0.0018172918353229761]\n",
      "[D loss: 0.0023225850891321898]\n"
     ]
    },
    {
     "name": "stderr",
     "output_type": "stream",
     "text": [
      "100%|████████████████████████████████████████████████████████████████████████████████| 750/750 [00:48<00:00, 15.38it/s]\n"
     ]
    },
    {
     "name": "stdout",
     "output_type": "stream",
     "text": [
      "[Epoch 102/150]\n",
      "[G loss: 10.129515647888184 | GAN: 7.152126789093018 L1: 0.0029773886781185865]\n",
      "[D loss: 0.0016790947411209345]\n"
     ]
    },
    {
     "name": "stderr",
     "output_type": "stream",
     "text": [
      "100%|████████████████████████████████████████████████████████████████████████████████| 750/750 [00:48<00:00, 15.39it/s]\n"
     ]
    },
    {
     "name": "stdout",
     "output_type": "stream",
     "text": [
      "[Epoch 103/150]\n",
      "[G loss: 12.759485244750977 | GAN: 10.091521263122559 L1: 0.0026679644361138344]\n",
      "[D loss: 0.0002800436341203749]\n"
     ]
    },
    {
     "name": "stderr",
     "output_type": "stream",
     "text": [
      "100%|████████████████████████████████████████████████████████████████████████████████| 750/750 [00:48<00:00, 15.38it/s]\n"
     ]
    },
    {
     "name": "stdout",
     "output_type": "stream",
     "text": [
      "[Epoch 104/150]\n",
      "[G loss: 11.306671142578125 | GAN: 8.748589515686035 L1: 0.00255808187648654]\n",
      "[D loss: 0.0006215723697096109]\n"
     ]
    },
    {
     "name": "stderr",
     "output_type": "stream",
     "text": [
      "100%|████████████████████████████████████████████████████████████████████████████████| 750/750 [00:48<00:00, 15.38it/s]\n"
     ]
    },
    {
     "name": "stdout",
     "output_type": "stream",
     "text": [
      "[Epoch 105/150]\n",
      "[G loss: 8.607666969299316 | GAN: 7.030741214752197 L1: 0.0015769257443025708]\n",
      "[D loss: 0.003576054936274886]\n"
     ]
    },
    {
     "name": "stderr",
     "output_type": "stream",
     "text": [
      "100%|████████████████████████████████████████████████████████████████████████████████| 750/750 [00:48<00:00, 15.37it/s]\n"
     ]
    },
    {
     "name": "stdout",
     "output_type": "stream",
     "text": [
      "[Epoch 106/150]\n",
      "[G loss: 11.397698402404785 | GAN: 9.145709991455078 L1: 0.0022519882768392563]\n",
      "[D loss: 0.001196118420921266]\n"
     ]
    },
    {
     "name": "stderr",
     "output_type": "stream",
     "text": [
      "100%|████████████████████████████████████████████████████████████████████████████████| 750/750 [00:48<00:00, 15.38it/s]\n"
     ]
    },
    {
     "name": "stdout",
     "output_type": "stream",
     "text": [
      "[Epoch 107/150]\n",
      "[G loss: 12.130722045898438 | GAN: 9.158580780029297 L1: 0.0029721406754106283]\n",
      "[D loss: 0.0005196391139179468]\n"
     ]
    },
    {
     "name": "stderr",
     "output_type": "stream",
     "text": [
      "100%|████████████████████████████████████████████████████████████████████████████████| 750/750 [00:48<00:00, 15.39it/s]\n"
     ]
    },
    {
     "name": "stdout",
     "output_type": "stream",
     "text": [
      "[Epoch 108/150]\n",
      "[G loss: 11.671930313110352 | GAN: 9.213266372680664 L1: 0.0024586638901382685]\n",
      "[D loss: 0.00024108857905957848]\n"
     ]
    },
    {
     "name": "stderr",
     "output_type": "stream",
     "text": [
      "100%|████████████████████████████████████████████████████████████████████████████████| 750/750 [00:48<00:00, 15.39it/s]\n"
     ]
    },
    {
     "name": "stdout",
     "output_type": "stream",
     "text": [
      "[Epoch 109/150]\n",
      "[G loss: 1.7046229839324951 | GAN: 0.44054585695266724 L1: 0.0012640771456062794]\n",
      "[D loss: 1.1066417694091797]\n"
     ]
    },
    {
     "name": "stderr",
     "output_type": "stream",
     "text": [
      "100%|████████████████████████████████████████████████████████████████████████████████| 750/750 [00:48<00:00, 15.39it/s]\n"
     ]
    },
    {
     "name": "stdout",
     "output_type": "stream",
     "text": [
      "[Epoch 110/150]\n",
      "[G loss: 9.91800308227539 | GAN: 7.99536657333374 L1: 0.001922636991366744]\n",
      "[D loss: 0.0008209159132093191]\n"
     ]
    },
    {
     "name": "stderr",
     "output_type": "stream",
     "text": [
      "100%|████████████████████████████████████████████████████████████████████████████████| 750/750 [00:48<00:00, 15.39it/s]\n"
     ]
    },
    {
     "name": "stdout",
     "output_type": "stream",
     "text": [
      "[Epoch 111/150]\n",
      "[G loss: 12.297250747680664 | GAN: 8.706367492675781 L1: 0.0035908829886466265]\n",
      "[D loss: 0.0007340521551668644]\n"
     ]
    },
    {
     "name": "stderr",
     "output_type": "stream",
     "text": [
      "100%|████████████████████████████████████████████████████████████████████████████████| 750/750 [00:48<00:00, 15.39it/s]\n"
     ]
    },
    {
     "name": "stdout",
     "output_type": "stream",
     "text": [
      "[Epoch 112/150]\n",
      "[G loss: 13.810596466064453 | GAN: 11.086080551147461 L1: 0.002724515739828348]\n",
      "[D loss: 0.00020343298092484474]\n"
     ]
    },
    {
     "name": "stderr",
     "output_type": "stream",
     "text": [
      "100%|████████████████████████████████████████████████████████████████████████████████| 750/750 [00:48<00:00, 15.39it/s]\n"
     ]
    },
    {
     "name": "stdout",
     "output_type": "stream",
     "text": [
      "[Epoch 113/150]\n",
      "[G loss: 5.529260635375977 | GAN: 4.528456211090088 L1: 0.0010008044773712754]\n",
      "[D loss: 0.02010800689458847]\n"
     ]
    },
    {
     "name": "stderr",
     "output_type": "stream",
     "text": [
      "100%|████████████████████████████████████████████████████████████████████████████████| 750/750 [00:48<00:00, 15.39it/s]\n"
     ]
    },
    {
     "name": "stdout",
     "output_type": "stream",
     "text": [
      "[Epoch 114/150]\n",
      "[G loss: 8.798663139343262 | GAN: 5.7496209144592285 L1: 0.0030490420758724213]\n",
      "[D loss: 0.0036904255393892527]\n"
     ]
    },
    {
     "name": "stderr",
     "output_type": "stream",
     "text": [
      "100%|████████████████████████████████████████████████████████████████████████████████| 750/750 [00:48<00:00, 15.38it/s]\n"
     ]
    },
    {
     "name": "stdout",
     "output_type": "stream",
     "text": [
      "[Epoch 115/150]\n",
      "[G loss: 10.396608352661133 | GAN: 7.557359218597412 L1: 0.0028392495587468147]\n",
      "[D loss: 0.0009049325599335134]\n"
     ]
    },
    {
     "name": "stderr",
     "output_type": "stream",
     "text": [
      "100%|████████████████████████████████████████████████████████████████████████████████| 750/750 [00:48<00:00, 15.39it/s]\n"
     ]
    },
    {
     "name": "stdout",
     "output_type": "stream",
     "text": [
      "[Epoch 116/150]\n",
      "[G loss: 11.569948196411133 | GAN: 9.577795028686523 L1: 0.0019921527709811926]\n",
      "[D loss: 0.0005819812067784369]\n"
     ]
    },
    {
     "name": "stderr",
     "output_type": "stream",
     "text": [
      "100%|████████████████████████████████████████████████████████████████████████████████| 750/750 [00:48<00:00, 15.39it/s]\n"
     ]
    },
    {
     "name": "stdout",
     "output_type": "stream",
     "text": [
      "[Epoch 117/150]\n",
      "[G loss: 9.912073135375977 | GAN: 8.267224311828613 L1: 0.0016448487294837832]\n",
      "[D loss: 0.0005149478674866259]\n"
     ]
    },
    {
     "name": "stderr",
     "output_type": "stream",
     "text": [
      "100%|████████████████████████████████████████████████████████████████████████████████| 750/750 [00:48<00:00, 15.39it/s]\n"
     ]
    },
    {
     "name": "stdout",
     "output_type": "stream",
     "text": [
      "[Epoch 118/150]\n",
      "[G loss: 12.116397857666016 | GAN: 8.82310676574707 L1: 0.0032932916656136513]\n",
      "[D loss: 0.00026295529096387327]\n"
     ]
    },
    {
     "name": "stderr",
     "output_type": "stream",
     "text": [
      "100%|████████████████████████████████████████████████████████████████████████████████| 750/750 [00:48<00:00, 15.39it/s]\n"
     ]
    },
    {
     "name": "stdout",
     "output_type": "stream",
     "text": [
      "[Epoch 119/150]\n",
      "[G loss: 11.993629455566406 | GAN: 9.70445442199707 L1: 0.0022891745902597904]\n",
      "[D loss: 0.000305148889310658]\n"
     ]
    },
    {
     "name": "stderr",
     "output_type": "stream",
     "text": [
      "100%|████████████████████████████████████████████████████████████████████████████████| 750/750 [00:48<00:00, 15.39it/s]\n"
     ]
    },
    {
     "name": "stdout",
     "output_type": "stream",
     "text": [
      "[Epoch 120/150]\n",
      "[G loss: 13.588338851928711 | GAN: 11.283939361572266 L1: 0.0023043998517096043]\n",
      "[D loss: 6.048251816537231e-05]\n"
     ]
    },
    {
     "name": "stderr",
     "output_type": "stream",
     "text": [
      "100%|████████████████████████████████████████████████████████████████████████████████| 750/750 [00:48<00:00, 15.38it/s]\n"
     ]
    },
    {
     "name": "stdout",
     "output_type": "stream",
     "text": [
      "[Epoch 121/150]\n",
      "[G loss: 13.991695404052734 | GAN: 9.69424057006836 L1: 0.004297454375773668]\n",
      "[D loss: 0.00021168467355892062]\n"
     ]
    },
    {
     "name": "stderr",
     "output_type": "stream",
     "text": [
      "100%|████████████████████████████████████████████████████████████████████████████████| 750/750 [00:48<00:00, 15.39it/s]\n"
     ]
    },
    {
     "name": "stdout",
     "output_type": "stream",
     "text": [
      "[Epoch 122/150]\n",
      "[G loss: 15.200469017028809 | GAN: 10.950182914733887 L1: 0.0042502861469984055]\n",
      "[D loss: 0.00010461061174282804]\n"
     ]
    },
    {
     "name": "stderr",
     "output_type": "stream",
     "text": [
      "100%|████████████████████████████████████████████████████████████████████████████████| 750/750 [00:48<00:00, 15.38it/s]\n"
     ]
    },
    {
     "name": "stdout",
     "output_type": "stream",
     "text": [
      "[Epoch 123/150]\n",
      "[G loss: 15.718411445617676 | GAN: 11.608797073364258 L1: 0.0041096145287156105]\n",
      "[D loss: 3.024011675734073e-05]\n"
     ]
    },
    {
     "name": "stderr",
     "output_type": "stream",
     "text": [
      "100%|████████████████████████████████████████████████████████████████████████████████| 750/750 [00:48<00:00, 15.39it/s]\n"
     ]
    },
    {
     "name": "stdout",
     "output_type": "stream",
     "text": [
      "[Epoch 124/150]\n",
      "[G loss: 17.18314552307129 | GAN: 14.473641395568848 L1: 0.0027095037512481213]\n",
      "[D loss: 2.046955887635704e-05]\n"
     ]
    },
    {
     "name": "stderr",
     "output_type": "stream",
     "text": [
      "100%|████████████████████████████████████████████████████████████████████████████████| 750/750 [00:48<00:00, 15.38it/s]\n"
     ]
    },
    {
     "name": "stdout",
     "output_type": "stream",
     "text": [
      "[Epoch 125/150]\n",
      "[G loss: 3.467709541320801 | GAN: 1.390853762626648 L1: 0.0020768556278198957]\n",
      "[D loss: 0.46727263927459717]\n"
     ]
    },
    {
     "name": "stderr",
     "output_type": "stream",
     "text": [
      "100%|████████████████████████████████████████████████████████████████████████████████| 750/750 [00:48<00:00, 15.38it/s]\n"
     ]
    },
    {
     "name": "stdout",
     "output_type": "stream",
     "text": [
      "[Epoch 126/150]\n",
      "[G loss: 8.105154991149902 | GAN: 6.581161022186279 L1: 0.0015239937929436564]\n",
      "[D loss: 0.0018914800602942705]\n"
     ]
    },
    {
     "name": "stderr",
     "output_type": "stream",
     "text": [
      "100%|████████████████████████████████████████████████████████████████████████████████| 750/750 [00:48<00:00, 15.39it/s]\n"
     ]
    },
    {
     "name": "stdout",
     "output_type": "stream",
     "text": [
      "[Epoch 127/150]\n",
      "[G loss: 11.226051330566406 | GAN: 8.886970520019531 L1: 0.002339080674573779]\n",
      "[D loss: 0.0004204854485578835]\n"
     ]
    },
    {
     "name": "stderr",
     "output_type": "stream",
     "text": [
      "100%|████████████████████████████████████████████████████████████████████████████████| 750/750 [00:48<00:00, 15.39it/s]\n"
     ]
    },
    {
     "name": "stdout",
     "output_type": "stream",
     "text": [
      "[Epoch 128/150]\n",
      "[G loss: 8.888882637023926 | GAN: 6.870461940765381 L1: 0.002018420957028866]\n",
      "[D loss: 0.0010067541152238846]\n"
     ]
    },
    {
     "name": "stderr",
     "output_type": "stream",
     "text": [
      "100%|████████████████████████████████████████████████████████████████████████████████| 750/750 [00:48<00:00, 15.39it/s]\n"
     ]
    },
    {
     "name": "stdout",
     "output_type": "stream",
     "text": [
      "[Epoch 129/150]\n",
      "[G loss: 9.819025039672852 | GAN: 6.775940895080566 L1: 0.003043083706870675]\n",
      "[D loss: 0.0020384478848427534]\n"
     ]
    },
    {
     "name": "stderr",
     "output_type": "stream",
     "text": [
      "100%|████████████████████████████████████████████████████████████████████████████████| 750/750 [00:48<00:00, 15.38it/s]\n"
     ]
    },
    {
     "name": "stdout",
     "output_type": "stream",
     "text": [
      "[Epoch 130/150]\n",
      "[G loss: 9.188552856445312 | GAN: 7.629745960235596 L1: 0.001558807329274714]\n",
      "[D loss: 0.0007545969565398991]\n"
     ]
    },
    {
     "name": "stderr",
     "output_type": "stream",
     "text": [
      "100%|████████████████████████████████████████████████████████████████████████████████| 750/750 [00:48<00:00, 15.39it/s]\n"
     ]
    },
    {
     "name": "stdout",
     "output_type": "stream",
     "text": [
      "[Epoch 131/150]\n",
      "[G loss: 11.114507675170898 | GAN: 9.141341209411621 L1: 0.001973166596144438]\n",
      "[D loss: 0.00047072989400476217]\n"
     ]
    },
    {
     "name": "stderr",
     "output_type": "stream",
     "text": [
      "100%|████████████████████████████████████████████████████████████████████████████████| 750/750 [00:48<00:00, 15.39it/s]\n"
     ]
    },
    {
     "name": "stdout",
     "output_type": "stream",
     "text": [
      "[Epoch 132/150]\n",
      "[G loss: 4.986867427825928 | GAN: 2.7100043296813965 L1: 0.0022768632043153048]\n",
      "[D loss: 1.0145567655563354]\n"
     ]
    },
    {
     "name": "stderr",
     "output_type": "stream",
     "text": [
      "100%|████████████████████████████████████████████████████████████████████████████████| 750/750 [00:48<00:00, 15.38it/s]\n"
     ]
    },
    {
     "name": "stdout",
     "output_type": "stream",
     "text": [
      "[Epoch 133/150]\n",
      "[G loss: 11.403426170349121 | GAN: 8.40870475769043 L1: 0.002994721755385399]\n",
      "[D loss: 0.001580572221428156]\n"
     ]
    },
    {
     "name": "stderr",
     "output_type": "stream",
     "text": [
      "100%|████████████████████████████████████████████████████████████████████████████████| 750/750 [00:48<00:00, 15.38it/s]\n"
     ]
    },
    {
     "name": "stdout",
     "output_type": "stream",
     "text": [
      "[Epoch 134/150]\n",
      "[G loss: 9.204038619995117 | GAN: 7.2320356369018555 L1: 0.0019720031414180994]\n",
      "[D loss: 0.0015876716934144497]\n"
     ]
    },
    {
     "name": "stderr",
     "output_type": "stream",
     "text": [
      "100%|████████████████████████████████████████████████████████████████████████████████| 750/750 [00:48<00:00, 15.38it/s]\n"
     ]
    },
    {
     "name": "stdout",
     "output_type": "stream",
     "text": [
      "[Epoch 135/150]\n",
      "[G loss: 8.588956832885742 | GAN: 6.830345153808594 L1: 0.0017586115282028913]\n",
      "[D loss: 0.0027371186297386885]\n"
     ]
    },
    {
     "name": "stderr",
     "output_type": "stream",
     "text": [
      "100%|████████████████████████████████████████████████████████████████████████████████| 750/750 [00:48<00:00, 15.39it/s]\n"
     ]
    },
    {
     "name": "stdout",
     "output_type": "stream",
     "text": [
      "[Epoch 136/150]\n",
      "[G loss: 10.101256370544434 | GAN: 7.670687675476074 L1: 0.002430568914860487]\n",
      "[D loss: 0.0005840621888637543]\n"
     ]
    },
    {
     "name": "stderr",
     "output_type": "stream",
     "text": [
      "100%|████████████████████████████████████████████████████████████████████████████████| 750/750 [00:48<00:00, 15.38it/s]\n"
     ]
    },
    {
     "name": "stdout",
     "output_type": "stream",
     "text": [
      "[Epoch 137/150]\n",
      "[G loss: 8.305780410766602 | GAN: 6.345750331878662 L1: 0.0019600295927375555]\n",
      "[D loss: 0.0018458543345332146]\n"
     ]
    },
    {
     "name": "stderr",
     "output_type": "stream",
     "text": [
      "100%|████████████████████████████████████████████████████████████████████████████████| 750/750 [00:48<00:00, 15.38it/s]\n"
     ]
    },
    {
     "name": "stdout",
     "output_type": "stream",
     "text": [
      "[Epoch 138/150]\n",
      "[G loss: 5.738536357879639 | GAN: 3.8259942531585693 L1: 0.001912542269565165]\n",
      "[D loss: 0.2557051181793213]\n"
     ]
    },
    {
     "name": "stderr",
     "output_type": "stream",
     "text": [
      "100%|████████████████████████████████████████████████████████████████████████████████| 750/750 [00:48<00:00, 15.39it/s]\n"
     ]
    },
    {
     "name": "stdout",
     "output_type": "stream",
     "text": [
      "[Epoch 139/150]\n",
      "[G loss: 9.819342613220215 | GAN: 7.638315200805664 L1: 0.002181027317419648]\n",
      "[D loss: 0.0006423522718250751]\n"
     ]
    },
    {
     "name": "stderr",
     "output_type": "stream",
     "text": [
      "100%|████████████████████████████████████████████████████████████████████████████████| 750/750 [00:48<00:00, 15.39it/s]\n"
     ]
    },
    {
     "name": "stdout",
     "output_type": "stream",
     "text": [
      "[Epoch 140/150]\n",
      "[G loss: 10.65352725982666 | GAN: 8.4459810256958 L1: 0.002207546029239893]\n",
      "[D loss: 0.0006398145342245698]\n"
     ]
    },
    {
     "name": "stderr",
     "output_type": "stream",
     "text": [
      "100%|████████████████████████████████████████████████████████████████████████████████| 750/750 [00:48<00:00, 15.38it/s]\n"
     ]
    },
    {
     "name": "stdout",
     "output_type": "stream",
     "text": [
      "[Epoch 141/150]\n",
      "[G loss: 9.587835311889648 | GAN: 7.4038777351379395 L1: 0.002183957025408745]\n",
      "[D loss: 0.001351298182271421]\n"
     ]
    },
    {
     "name": "stderr",
     "output_type": "stream",
     "text": [
      "100%|████████████████████████████████████████████████████████████████████████████████| 750/750 [00:48<00:00, 15.38it/s]\n"
     ]
    },
    {
     "name": "stdout",
     "output_type": "stream",
     "text": [
      "[Epoch 142/150]\n",
      "[G loss: 10.672140121459961 | GAN: 7.751447677612305 L1: 0.0029206923209130764]\n",
      "[D loss: 0.000568049552384764]\n"
     ]
    },
    {
     "name": "stderr",
     "output_type": "stream",
     "text": [
      "100%|████████████████████████████████████████████████████████████████████████████████| 750/750 [00:48<00:00, 15.38it/s]\n"
     ]
    },
    {
     "name": "stdout",
     "output_type": "stream",
     "text": [
      "[Epoch 143/150]\n",
      "[G loss: 4.2139811515808105 | GAN: 2.0065054893493652 L1: 0.0022074757143855095]\n",
      "[D loss: 0.37985432147979736]\n"
     ]
    },
    {
     "name": "stderr",
     "output_type": "stream",
     "text": [
      "100%|████████████████████████████████████████████████████████████████████████████████| 750/750 [00:48<00:00, 15.38it/s]\n"
     ]
    },
    {
     "name": "stdout",
     "output_type": "stream",
     "text": [
      "[Epoch 144/150]\n",
      "[G loss: 6.967710494995117 | GAN: 5.668846130371094 L1: 0.001298864372074604]\n",
      "[D loss: 0.004427730571478605]\n"
     ]
    },
    {
     "name": "stderr",
     "output_type": "stream",
     "text": [
      "100%|████████████████████████████████████████████████████████████████████████████████| 750/750 [00:48<00:00, 15.39it/s]\n"
     ]
    },
    {
     "name": "stdout",
     "output_type": "stream",
     "text": [
      "[Epoch 145/150]\n",
      "[G loss: 2.3145546913146973 | GAN: 1.0690679550170898 L1: 0.0012454867828637362]\n",
      "[D loss: 0.5635372400283813]\n"
     ]
    },
    {
     "name": "stderr",
     "output_type": "stream",
     "text": [
      "100%|████████████████████████████████████████████████████████████████████████████████| 750/750 [00:49<00:00, 15.30it/s]\n"
     ]
    },
    {
     "name": "stdout",
     "output_type": "stream",
     "text": [
      "[Epoch 146/150]\n",
      "[G loss: 7.461889266967773 | GAN: 5.537010669708252 L1: 0.001924878335557878]\n",
      "[D loss: 0.006514678243547678]\n"
     ]
    },
    {
     "name": "stderr",
     "output_type": "stream",
     "text": [
      "100%|████████████████████████████████████████████████████████████████████████████████| 750/750 [00:48<00:00, 15.37it/s]\n"
     ]
    },
    {
     "name": "stdout",
     "output_type": "stream",
     "text": [
      "[Epoch 147/150]\n",
      "[G loss: 8.06356143951416 | GAN: 7.279147624969482 L1: 0.000784413714427501]\n",
      "[D loss: 0.0014459893573075533]\n"
     ]
    },
    {
     "name": "stderr",
     "output_type": "stream",
     "text": [
      "100%|████████████████████████████████████████████████████████████████████████████████| 750/750 [00:48<00:00, 15.38it/s]\n"
     ]
    },
    {
     "name": "stdout",
     "output_type": "stream",
     "text": [
      "[Epoch 148/150]\n",
      "[G loss: 9.909049987792969 | GAN: 8.093505859375 L1: 0.0018155444413423538]\n",
      "[D loss: 0.0009752202895469964]\n"
     ]
    },
    {
     "name": "stderr",
     "output_type": "stream",
     "text": [
      "100%|████████████████████████████████████████████████████████████████████████████████| 750/750 [00:48<00:00, 15.39it/s]\n"
     ]
    },
    {
     "name": "stdout",
     "output_type": "stream",
     "text": [
      "[Epoch 149/150]\n",
      "[G loss: 10.437450408935547 | GAN: 8.165888786315918 L1: 0.00227156188338995]\n",
      "[D loss: 0.0006167125538922846]\n"
     ]
    },
    {
     "name": "stderr",
     "output_type": "stream",
     "text": [
      "100%|████████████████████████████████████████████████████████████████████████████████| 750/750 [00:48<00:00, 15.38it/s]\n"
     ]
    },
    {
     "name": "stdout",
     "output_type": "stream",
     "text": [
      "[Epoch 150/150]\n",
      "[G loss: 8.415895462036133 | GAN: 7.020675182342529 L1: 0.0013952200533822179]\n",
      "[D loss: 0.0017644220497459173]\n"
     ]
    }
   ],
   "source": [
    "n_epoches = 150\n",
    "# decay_epoch = 100 # Reference paper\n",
    "G_losses, D_losses, L1_losses, GAN_losses = [], [], [], []\n",
    "\n",
    "# lambda_func = lambda epoch: 1 - max(0, epoch-decay_epoch)/(n_epoches-decay_epoch)\n",
    "# lr_scheduler_G = torch.optim.lr_scheduler.LambdaLR(optimizer_G, lr_lambda=lambda_func)\n",
    "# lr_scheduler_D = torch.optim.lr_scheduler.LambdaLR(optimizer_D, lr_lambda=lambda_func)\n",
    "\n",
    "for epoch in range(n_epoches):\n",
    "\n",
    "    G.train()\n",
    "    D.train()\n",
    "    LAMBDA = 1000\n",
    "\n",
    "    for i, (input, target) in enumerate(tqdm(train_dl)):\n",
    "        it = i+1\n",
    "        input, target = input.to(device), target.to(device)\n",
    "\n",
    "        real_label = torch.ones_like(D(input, target), device=device)  # Rótulo para imagens reais\n",
    "        fake_label = torch.zeros_like(D(input, target), device=device) \n",
    "        \n",
    "        fake_image = G(input)\n",
    "        fake_image_ = fake_image.detach()\n",
    "\n",
    "        \"\"\"Train Generators\"\"\"\n",
    "        # set to training mode in the begining, because sample_images will set it to eval mode\n",
    "\n",
    "        optimizer_G.zero_grad()\n",
    "\n",
    "        # GAN loss, train G to make D think it's true\n",
    "        loss_L1 = criterion_L1(fake_image, target)\n",
    "        loss_GAN = criterion_GAN(D(input, fake_image), real_label) # Não pode usar o fake_image_ aqui, pois o gerador precisa calcular o gradiente com basse na imagem fake\n",
    "        \n",
    "        # G total loss\n",
    "        loss_G = loss_GAN + LAMBDA * loss_L1 \n",
    "\n",
    "        loss_G.backward()\n",
    "        optimizer_G.step()\n",
    "\n",
    "        if it % 2 == 0:\n",
    "        \n",
    "            \"\"\"Train Discriminator \"\"\"\n",
    "            optimizer_D.zero_grad()\n",
    "            \n",
    "            loss_real = criterion_GAN(D(input, target), real_label)\n",
    "            loss_fake = criterion_GAN(D(input, fake_image_), fake_label)\n",
    "            loss_D = (loss_real + loss_fake) * 0.5\n",
    "            \n",
    "            loss_D.backward()\n",
    "            optimizer_D.step()\n",
    "    \n",
    "    # lr_scheduler_G.step()\n",
    "    # lr_scheduler_D.step()\n",
    "\n",
    "    # Salvar as perdas para cada época\n",
    "    G_losses.append(loss_G.item())\n",
    "    D_losses.append(loss_D.item())\n",
    "    GAN_losses.append(loss_GAN.item())\n",
    "    L1_losses.append(loss_L1.item())\n",
    "\n",
    "    print(f'[Epoch {epoch + 1}/{n_epoches}]')\n",
    "    print(f'[G loss: {loss_G.item()} | GAN: {loss_GAN.item()} L1: {loss_L1.item()}]')\n",
    "    print(f'[D loss: {loss_D.item()}]')"
   ]
  },
  {
   "cell_type": "code",
   "execution_count": 17,
   "id": "408813b2-40af-4ceb-af95-937d3084e711",
   "metadata": {},
   "outputs": [
    {
     "data": {
      "image/png": "[encoded data removed]",
      "text/plain": [
       "<Figure size 1200x1500 with 4 Axes>"
      ]
     },
     "metadata": {},
     "output_type": "display_data"
    }
   ],
   "source": [
    "fig, (ax1, ax3, ax4) = plt.subplots(3,1, figsize=(12, 15))  # Definindo um layout de 1 linha e 2 colunas\n",
    "\n",
    "# Primeiro gráfico: Perdas do Gerador e Discriminador\n",
    "ax1.plot(G_losses, 'g-', label=\"Perda do Gerador\")\n",
    "ax1.set_xlabel(\"Épocas\")\n",
    "ax1.set_ylabel('Faixa do Gerador', color='g')\n",
    "ax1.tick_params(axis='y', labelcolor='g')\n",
    "ax2 = ax1.twinx()\n",
    "ax2.plot(D_losses, 'b-', label=\"Perda do Discriminador\")\n",
    "ax2.set_ylabel('Faixa do Discriminador', color='b')\n",
    "ax2.tick_params(axis='y', labelcolor='b')\n",
    "ax1.set_title(\"Perdas do Gerador e Discriminador durante o Treinamento\")\n",
    "ax1.grid()\n",
    "fig.legend(loc='upper left',  bbox_to_anchor=(0.65, 0.858))\n",
    "\n",
    "# Segundo gráfico: Perdas Individuais durante o Treinamento\n",
    "ax3.plot(L1_losses, label=\"Perda L1\")\n",
    "ax3.set_xlabel(\"Épocas\")\n",
    "ax3.set_ylabel(\"Perda\")\n",
    "ax3.set_title(\"Perdas Individuais durante o Treinamento\")\n",
    "ax3.grid()\n",
    "ax3.legend()\n",
    "\n",
    "ax4.plot(GAN_losses, label=\"Perda GAN\")\n",
    "ax4.set_xlabel(\"Épocas\")\n",
    "ax4.set_ylabel(\"Perda\")\n",
    "ax4.set_title(\"Perdas Individuais durante o Treinamento\")\n",
    "ax4.grid()\n",
    "ax4.legend()\n",
    "\n",
    "# Salvando os gráficos\n",
    "plt.tight_layout()  # Ajusta automaticamente o espaçamento\n",
    "plt.savefig('pix2pix_P2VZ_Loss_V3.png')\n",
    "plt.show()"
   ]
  },
  {
   "cell_type": "code",
   "execution_count": 18,
   "id": "32b7ba0c-24d1-44e2-8e27-3091626b9041",
   "metadata": {},
   "outputs": [],
   "source": [
    "torch.save({\n",
    "    'generator_state_dict': G.state_dict(),\n",
    "    'discriminator_state_dict': D.state_dict(),\n",
    "    'generator_optimizer_state_dict': optimizer_G.state_dict(),\n",
    "    'discriminator_optimizer_state_dict': optimizer_D.state_dict(),\n",
    "    'epoch': epoch\n",
    "}, 'pix2pix_P2VZcheckpoint_V3.pth')\n",
    "\n",
    "checkpoint = torch.load('pix2pix_P2VZcheckpoint_V3.pth', weights_only=True)"
   ]
  }
 ],
 "metadata": {
  "kernelspec": {
   "display_name": "Python 3 (ipykernel)",
   "language": "python",
   "name": "python3"
  },
  "language_info": {
   "codemirror_mode": {
    "name": "ipython",
    "version": 3
   },
   "file_extension": ".py",
   "mimetype": "text/x-python",
   "name": "python",
   "nbconvert_exporter": "python",
   "pygments_lexer": "ipython3",
   "version": "3.12.4"
  }
 },
 "nbformat": 4,
 "nbformat_minor": 5
}
